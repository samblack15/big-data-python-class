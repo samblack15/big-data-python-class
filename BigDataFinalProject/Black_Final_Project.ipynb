{
 "cells": [
  {
   "cell_type": "markdown",
   "metadata": {},
   "source": [
    "# Using the kNN algorithm to Predict the Price of a Diamond\n",
    "\n",
    "In this Jupyter workbook, the k-Nearest Neighbor algorithm is applied many times to a dataset of over 54,000 diamonds. Each dimension represents a certain characteristic about a diamond, and the algorithm is attempting to predict the diamonds value (in USD)."
   ]
  },
  {
   "cell_type": "code",
   "execution_count": 1,
   "metadata": {},
   "outputs": [],
   "source": [
    "%matplotlib inline\n",
    "\n",
    "import numpy as np\n",
    "import pandas as pd\n",
    "from sklearn import preprocessing\n",
    "from sklearn.decomposition import PCA\n",
    "from sklearn.model_selection import train_test_split\n",
    "from sklearn.neighbors import KNeighborsRegressor\n",
    "import matplotlib.pyplot as plt"
   ]
  },
  {
   "cell_type": "markdown",
   "metadata": {},
   "source": [
    "## Data manipulation\n",
    "\n",
    "First training data is loaded from a CSV file. Each row is a diamond in the dataset is a feature.\n",
    "\n",
    "Description of the features:\n",
    "   \n",
    "   carat: number of carats in the diamond\n",
    "   \n",
    "   cut: quality of the diamond, values include (Fair, Good, Very Good, Premium, Ideal)\n",
    "   \n",
    "   color: represented by a letter in the alphabetic range of B (best) to J (worst)\n",
    "   \n",
    "   clarity: a measurement of how transparent the diamond is. Possible values, from best to worst, are (IF, VVS1, VVS2, VS1, VS2, SI1, SI2, I1)\n",
    "   \n",
    "   x: length of diamond in mm,\n",
    "   \n",
    "   y: width of diamond in mm,\n",
    "   \n",
    "   z: depth of diamond in mm\n",
    "   \n",
    "   total depth percentage, equal to z / ((x + y) / 2) * 100\n",
    "   \n",
    "   table percentage: width of top of the diamond relative to widest region\n",
    "   \n",
    "   price: price of diamond in USD\n",
    "\n",
    "The first 5 rows are printed to show a sample of the data."
   ]
  },
  {
   "cell_type": "code",
   "execution_count": 2,
   "metadata": {
    "scrolled": true
   },
   "outputs": [
    {
     "data": {
      "text/html": [
       "<div>\n",
       "<style scoped>\n",
       "    .dataframe tbody tr th:only-of-type {\n",
       "        vertical-align: middle;\n",
       "    }\n",
       "\n",
       "    .dataframe tbody tr th {\n",
       "        vertical-align: top;\n",
       "    }\n",
       "\n",
       "    .dataframe thead th {\n",
       "        text-align: right;\n",
       "    }\n",
       "</style>\n",
       "<table border=\"1\" class=\"dataframe\">\n",
       "  <thead>\n",
       "    <tr style=\"text-align: right;\">\n",
       "      <th></th>\n",
       "      <th>carat</th>\n",
       "      <th>cut</th>\n",
       "      <th>color</th>\n",
       "      <th>clarity</th>\n",
       "      <th>depth</th>\n",
       "      <th>table</th>\n",
       "      <th>price</th>\n",
       "      <th>x</th>\n",
       "      <th>y</th>\n",
       "      <th>z</th>\n",
       "    </tr>\n",
       "  </thead>\n",
       "  <tbody>\n",
       "    <tr>\n",
       "      <th>0</th>\n",
       "      <td>0.23</td>\n",
       "      <td>Ideal</td>\n",
       "      <td>E</td>\n",
       "      <td>SI2</td>\n",
       "      <td>61.5</td>\n",
       "      <td>55.0</td>\n",
       "      <td>326</td>\n",
       "      <td>3.95</td>\n",
       "      <td>3.98</td>\n",
       "      <td>2.43</td>\n",
       "    </tr>\n",
       "    <tr>\n",
       "      <th>1</th>\n",
       "      <td>0.21</td>\n",
       "      <td>Premium</td>\n",
       "      <td>E</td>\n",
       "      <td>SI1</td>\n",
       "      <td>59.8</td>\n",
       "      <td>61.0</td>\n",
       "      <td>326</td>\n",
       "      <td>3.89</td>\n",
       "      <td>3.84</td>\n",
       "      <td>2.31</td>\n",
       "    </tr>\n",
       "    <tr>\n",
       "      <th>2</th>\n",
       "      <td>0.23</td>\n",
       "      <td>Good</td>\n",
       "      <td>E</td>\n",
       "      <td>VS1</td>\n",
       "      <td>56.9</td>\n",
       "      <td>65.0</td>\n",
       "      <td>327</td>\n",
       "      <td>4.05</td>\n",
       "      <td>4.07</td>\n",
       "      <td>2.31</td>\n",
       "    </tr>\n",
       "    <tr>\n",
       "      <th>3</th>\n",
       "      <td>0.29</td>\n",
       "      <td>Premium</td>\n",
       "      <td>I</td>\n",
       "      <td>VS2</td>\n",
       "      <td>62.4</td>\n",
       "      <td>58.0</td>\n",
       "      <td>334</td>\n",
       "      <td>4.20</td>\n",
       "      <td>4.23</td>\n",
       "      <td>2.63</td>\n",
       "    </tr>\n",
       "    <tr>\n",
       "      <th>4</th>\n",
       "      <td>0.31</td>\n",
       "      <td>Good</td>\n",
       "      <td>J</td>\n",
       "      <td>SI2</td>\n",
       "      <td>63.3</td>\n",
       "      <td>58.0</td>\n",
       "      <td>335</td>\n",
       "      <td>4.34</td>\n",
       "      <td>4.35</td>\n",
       "      <td>2.75</td>\n",
       "    </tr>\n",
       "  </tbody>\n",
       "</table>\n",
       "</div>"
      ],
      "text/plain": [
       "   carat      cut color clarity  depth  table  price     x     y     z\n",
       "0   0.23    Ideal     E     SI2   61.5   55.0    326  3.95  3.98  2.43\n",
       "1   0.21  Premium     E     SI1   59.8   61.0    326  3.89  3.84  2.31\n",
       "2   0.23     Good     E     VS1   56.9   65.0    327  4.05  4.07  2.31\n",
       "3   0.29  Premium     I     VS2   62.4   58.0    334  4.20  4.23  2.63\n",
       "4   0.31     Good     J     SI2   63.3   58.0    335  4.34  4.35  2.75"
      ]
     },
     "execution_count": 2,
     "metadata": {},
     "output_type": "execute_result"
    }
   ],
   "source": [
    "data = pd.read_csv(\"diamonds.csv\")\n",
    "\n",
    "data.head()"
   ]
  },
  {
   "cell_type": "markdown",
   "metadata": {},
   "source": [
    "The first step is to transform the categorical features into dummy variables, so that the kNN algorithm can be applied properly. Pandas has a useful function called \"get_dummies\" that will be used on the features \"cut\", \"color\", and \"clarity\""
   ]
  },
  {
   "cell_type": "code",
   "execution_count": 3,
   "metadata": {},
   "outputs": [
    {
     "name": "stdout",
     "output_type": "stream",
     "text": [
      "The dimensions of the data after this transformation are : (53940, 27)\n"
     ]
    },
    {
     "data": {
      "text/html": [
       "<div>\n",
       "<style scoped>\n",
       "    .dataframe tbody tr th:only-of-type {\n",
       "        vertical-align: middle;\n",
       "    }\n",
       "\n",
       "    .dataframe tbody tr th {\n",
       "        vertical-align: top;\n",
       "    }\n",
       "\n",
       "    .dataframe thead th {\n",
       "        text-align: right;\n",
       "    }\n",
       "</style>\n",
       "<table border=\"1\" class=\"dataframe\">\n",
       "  <thead>\n",
       "    <tr style=\"text-align: right;\">\n",
       "      <th></th>\n",
       "      <th>carat</th>\n",
       "      <th>depth</th>\n",
       "      <th>table</th>\n",
       "      <th>price</th>\n",
       "      <th>x</th>\n",
       "      <th>y</th>\n",
       "      <th>z</th>\n",
       "      <th>cut_Fair</th>\n",
       "      <th>cut_Good</th>\n",
       "      <th>cut_Ideal</th>\n",
       "      <th>...</th>\n",
       "      <th>color_I</th>\n",
       "      <th>color_J</th>\n",
       "      <th>clarity_I1</th>\n",
       "      <th>clarity_IF</th>\n",
       "      <th>clarity_SI1</th>\n",
       "      <th>clarity_SI2</th>\n",
       "      <th>clarity_VS1</th>\n",
       "      <th>clarity_VS2</th>\n",
       "      <th>clarity_VVS1</th>\n",
       "      <th>clarity_VVS2</th>\n",
       "    </tr>\n",
       "  </thead>\n",
       "  <tbody>\n",
       "    <tr>\n",
       "      <th>0</th>\n",
       "      <td>0.23</td>\n",
       "      <td>61.5</td>\n",
       "      <td>55.0</td>\n",
       "      <td>326</td>\n",
       "      <td>3.95</td>\n",
       "      <td>3.98</td>\n",
       "      <td>2.43</td>\n",
       "      <td>0</td>\n",
       "      <td>0</td>\n",
       "      <td>1</td>\n",
       "      <td>...</td>\n",
       "      <td>0</td>\n",
       "      <td>0</td>\n",
       "      <td>0</td>\n",
       "      <td>0</td>\n",
       "      <td>0</td>\n",
       "      <td>1</td>\n",
       "      <td>0</td>\n",
       "      <td>0</td>\n",
       "      <td>0</td>\n",
       "      <td>0</td>\n",
       "    </tr>\n",
       "    <tr>\n",
       "      <th>1</th>\n",
       "      <td>0.21</td>\n",
       "      <td>59.8</td>\n",
       "      <td>61.0</td>\n",
       "      <td>326</td>\n",
       "      <td>3.89</td>\n",
       "      <td>3.84</td>\n",
       "      <td>2.31</td>\n",
       "      <td>0</td>\n",
       "      <td>0</td>\n",
       "      <td>0</td>\n",
       "      <td>...</td>\n",
       "      <td>0</td>\n",
       "      <td>0</td>\n",
       "      <td>0</td>\n",
       "      <td>0</td>\n",
       "      <td>1</td>\n",
       "      <td>0</td>\n",
       "      <td>0</td>\n",
       "      <td>0</td>\n",
       "      <td>0</td>\n",
       "      <td>0</td>\n",
       "    </tr>\n",
       "    <tr>\n",
       "      <th>2</th>\n",
       "      <td>0.23</td>\n",
       "      <td>56.9</td>\n",
       "      <td>65.0</td>\n",
       "      <td>327</td>\n",
       "      <td>4.05</td>\n",
       "      <td>4.07</td>\n",
       "      <td>2.31</td>\n",
       "      <td>0</td>\n",
       "      <td>1</td>\n",
       "      <td>0</td>\n",
       "      <td>...</td>\n",
       "      <td>0</td>\n",
       "      <td>0</td>\n",
       "      <td>0</td>\n",
       "      <td>0</td>\n",
       "      <td>0</td>\n",
       "      <td>0</td>\n",
       "      <td>1</td>\n",
       "      <td>0</td>\n",
       "      <td>0</td>\n",
       "      <td>0</td>\n",
       "    </tr>\n",
       "    <tr>\n",
       "      <th>3</th>\n",
       "      <td>0.29</td>\n",
       "      <td>62.4</td>\n",
       "      <td>58.0</td>\n",
       "      <td>334</td>\n",
       "      <td>4.20</td>\n",
       "      <td>4.23</td>\n",
       "      <td>2.63</td>\n",
       "      <td>0</td>\n",
       "      <td>0</td>\n",
       "      <td>0</td>\n",
       "      <td>...</td>\n",
       "      <td>1</td>\n",
       "      <td>0</td>\n",
       "      <td>0</td>\n",
       "      <td>0</td>\n",
       "      <td>0</td>\n",
       "      <td>0</td>\n",
       "      <td>0</td>\n",
       "      <td>1</td>\n",
       "      <td>0</td>\n",
       "      <td>0</td>\n",
       "    </tr>\n",
       "    <tr>\n",
       "      <th>4</th>\n",
       "      <td>0.31</td>\n",
       "      <td>63.3</td>\n",
       "      <td>58.0</td>\n",
       "      <td>335</td>\n",
       "      <td>4.34</td>\n",
       "      <td>4.35</td>\n",
       "      <td>2.75</td>\n",
       "      <td>0</td>\n",
       "      <td>1</td>\n",
       "      <td>0</td>\n",
       "      <td>...</td>\n",
       "      <td>0</td>\n",
       "      <td>1</td>\n",
       "      <td>0</td>\n",
       "      <td>0</td>\n",
       "      <td>0</td>\n",
       "      <td>1</td>\n",
       "      <td>0</td>\n",
       "      <td>0</td>\n",
       "      <td>0</td>\n",
       "      <td>0</td>\n",
       "    </tr>\n",
       "  </tbody>\n",
       "</table>\n",
       "<p>5 rows × 27 columns</p>\n",
       "</div>"
      ],
      "text/plain": [
       "   carat  depth  table  price     x     y     z  cut_Fair  cut_Good  \\\n",
       "0   0.23   61.5   55.0    326  3.95  3.98  2.43         0         0   \n",
       "1   0.21   59.8   61.0    326  3.89  3.84  2.31         0         0   \n",
       "2   0.23   56.9   65.0    327  4.05  4.07  2.31         0         1   \n",
       "3   0.29   62.4   58.0    334  4.20  4.23  2.63         0         0   \n",
       "4   0.31   63.3   58.0    335  4.34  4.35  2.75         0         1   \n",
       "\n",
       "   cut_Ideal      ...       color_I  color_J  clarity_I1  clarity_IF  \\\n",
       "0          1      ...             0        0           0           0   \n",
       "1          0      ...             0        0           0           0   \n",
       "2          0      ...             0        0           0           0   \n",
       "3          0      ...             1        0           0           0   \n",
       "4          0      ...             0        1           0           0   \n",
       "\n",
       "   clarity_SI1  clarity_SI2  clarity_VS1  clarity_VS2  clarity_VVS1  \\\n",
       "0            0            1            0            0             0   \n",
       "1            1            0            0            0             0   \n",
       "2            0            0            1            0             0   \n",
       "3            0            0            0            1             0   \n",
       "4            0            1            0            0             0   \n",
       "\n",
       "   clarity_VVS2  \n",
       "0             0  \n",
       "1             0  \n",
       "2             0  \n",
       "3             0  \n",
       "4             0  \n",
       "\n",
       "[5 rows x 27 columns]"
      ]
     },
     "execution_count": 3,
     "metadata": {},
     "output_type": "execute_result"
    }
   ],
   "source": [
    "data = pd.get_dummies(data)\n",
    "\n",
    "print(\"The dimensions of the data after this transformation are : \" + str(data.shape))\n",
    "data.head()"
   ]
  },
  {
   "cell_type": "markdown",
   "metadata": {},
   "source": [
    "Next, the testing and training sets must be created. Observations in the testing set will be queried against the training set data.\n",
    "\n",
    "Approximatley 75% of the 53940 observations will be used for the training set, while 25% will be used for the testing set."
   ]
  },
  {
   "cell_type": "code",
   "execution_count": 4,
   "metadata": {},
   "outputs": [
    {
     "name": "stdout",
     "output_type": "stream",
     "text": [
      "The number of observations in the training data set is 40455\n",
      "The number of observations in the test data set is 13485\n"
     ]
    }
   ],
   "source": [
    "train, test = train_test_split(data, test_size=.25, random_state = 3)\n",
    "\n",
    "print(\"The number of observations in the training data set is \" + str(len(train)))\n",
    "print(\"The number of observations in the test data set is \" + str(len(test)))"
   ]
  },
  {
   "cell_type": "markdown",
   "metadata": {},
   "source": [
    "The training and test data further need to be split into the predictors, and what the kNN algorithm will attempt to predict, which is the price of the diamond.\n",
    "\n",
    "The training and testing predictor datasets will have the leter 'x' appended to the names of the DataFrame that store this data, while the datasets that contain the price of each diamond will have the letter 'y' appended."
   ]
  },
  {
   "cell_type": "code",
   "execution_count": 5,
   "metadata": {
    "scrolled": true
   },
   "outputs": [
    {
     "name": "stdout",
     "output_type": "stream",
     "text": [
      "The dimensions of the train_x = (40455, 26)\n",
      "The dimensions of the train_y = (40455, 1)\n",
      "The dimensions of the test_x = (13485, 26)\n",
      "The dimensions of the test_y = (13485, 1)\n"
     ]
    }
   ],
   "source": [
    "train_x = train.drop('price', 1)\n",
    "train_y = pd.DataFrame(train['price'].values.reshape(len(train), 1), columns = [\"price\"])\n",
    "test_x = test.drop('price', 1)\n",
    "test_y = pd.DataFrame(test['price'].values.reshape(len(test), 1), columns = [\"price\"])\n",
    "\n",
    "print(\"The dimensions of the train_x = \" + str(train_x.shape))\n",
    "print(\"The dimensions of the train_y = \" + str(train_y.shape))\n",
    "print(\"The dimensions of the test_x = \" + str(test_x.shape))\n",
    "print(\"The dimensions of the test_y = \" + str(test_y.shape))"
   ]
  },
  {
   "cell_type": "markdown",
   "metadata": {},
   "source": [
    "The final bit of data manipulation that must be done is to normalize train_x and test_x. Otherwise, features with larger standard deviations will be weighted more heavily in the distance caluclations that are computed as part of the kNN algorithm. It is important to avoid introducing this bias."
   ]
  },
  {
   "cell_type": "code",
   "execution_count": 6,
   "metadata": {},
   "outputs": [],
   "source": [
    "train_x = pd.DataFrame(preprocessing.scale(train_x), columns = list(train_x))\n",
    "test_x = pd.DataFrame(preprocessing.scale(test_x), columns = list(test_x))"
   ]
  },
  {
   "cell_type": "markdown",
   "metadata": {},
   "source": [
    "Below is a sample of what train_x and train_y look like"
   ]
  },
  {
   "cell_type": "code",
   "execution_count": 7,
   "metadata": {},
   "outputs": [
    {
     "name": "stdout",
     "output_type": "stream",
     "text": [
      "The first 5 rows of train_x:\n"
     ]
    },
    {
     "data": {
      "text/html": [
       "<div>\n",
       "<style scoped>\n",
       "    .dataframe tbody tr th:only-of-type {\n",
       "        vertical-align: middle;\n",
       "    }\n",
       "\n",
       "    .dataframe tbody tr th {\n",
       "        vertical-align: top;\n",
       "    }\n",
       "\n",
       "    .dataframe thead th {\n",
       "        text-align: right;\n",
       "    }\n",
       "</style>\n",
       "<table border=\"1\" class=\"dataframe\">\n",
       "  <thead>\n",
       "    <tr style=\"text-align: right;\">\n",
       "      <th></th>\n",
       "      <th>carat</th>\n",
       "      <th>depth</th>\n",
       "      <th>table</th>\n",
       "      <th>x</th>\n",
       "      <th>y</th>\n",
       "      <th>z</th>\n",
       "      <th>cut_Fair</th>\n",
       "      <th>cut_Good</th>\n",
       "      <th>cut_Ideal</th>\n",
       "      <th>cut_Premium</th>\n",
       "      <th>...</th>\n",
       "      <th>color_I</th>\n",
       "      <th>color_J</th>\n",
       "      <th>clarity_I1</th>\n",
       "      <th>clarity_IF</th>\n",
       "      <th>clarity_SI1</th>\n",
       "      <th>clarity_SI2</th>\n",
       "      <th>clarity_VS1</th>\n",
       "      <th>clarity_VS2</th>\n",
       "      <th>clarity_VVS1</th>\n",
       "      <th>clarity_VVS2</th>\n",
       "    </tr>\n",
       "  </thead>\n",
       "  <tbody>\n",
       "    <tr>\n",
       "      <th>0</th>\n",
       "      <td>0.448151</td>\n",
       "      <td>0.804283</td>\n",
       "      <td>1.127536</td>\n",
       "      <td>0.623652</td>\n",
       "      <td>0.521595</td>\n",
       "      <td>0.665375</td>\n",
       "      <td>-0.175815</td>\n",
       "      <td>-0.316288</td>\n",
       "      <td>-0.813011</td>\n",
       "      <td>1.699092</td>\n",
       "      <td>...</td>\n",
       "      <td>-0.334225</td>\n",
       "      <td>-0.236099</td>\n",
       "      <td>-0.117616</td>\n",
       "      <td>-0.184302</td>\n",
       "      <td>-0.566474</td>\n",
       "      <td>-0.45319</td>\n",
       "      <td>2.376159</td>\n",
       "      <td>-0.542848</td>\n",
       "      <td>-0.270906</td>\n",
       "      <td>-0.321603</td>\n",
       "    </tr>\n",
       "    <tr>\n",
       "      <th>1</th>\n",
       "      <td>0.595747</td>\n",
       "      <td>-0.520556</td>\n",
       "      <td>1.127536</td>\n",
       "      <td>0.792901</td>\n",
       "      <td>0.731237</td>\n",
       "      <td>0.679472</td>\n",
       "      <td>-0.175815</td>\n",
       "      <td>-0.316288</td>\n",
       "      <td>-0.813011</td>\n",
       "      <td>1.699092</td>\n",
       "      <td>...</td>\n",
       "      <td>-0.334225</td>\n",
       "      <td>4.235517</td>\n",
       "      <td>-0.117616</td>\n",
       "      <td>-0.184302</td>\n",
       "      <td>1.765305</td>\n",
       "      <td>-0.45319</td>\n",
       "      <td>-0.420847</td>\n",
       "      <td>-0.542848</td>\n",
       "      <td>-0.270906</td>\n",
       "      <td>-0.321603</td>\n",
       "    </tr>\n",
       "    <tr>\n",
       "      <th>2</th>\n",
       "      <td>-0.943473</td>\n",
       "      <td>1.501566</td>\n",
       "      <td>-1.096570</td>\n",
       "      <td>-1.104475</td>\n",
       "      <td>-1.050723</td>\n",
       "      <td>-0.927557</td>\n",
       "      <td>-0.175815</td>\n",
       "      <td>-0.316288</td>\n",
       "      <td>-0.813011</td>\n",
       "      <td>-0.588550</td>\n",
       "      <td>...</td>\n",
       "      <td>-0.334225</td>\n",
       "      <td>-0.236099</td>\n",
       "      <td>-0.117616</td>\n",
       "      <td>-0.184302</td>\n",
       "      <td>-0.566474</td>\n",
       "      <td>-0.45319</td>\n",
       "      <td>2.376159</td>\n",
       "      <td>-0.542848</td>\n",
       "      <td>-0.270906</td>\n",
       "      <td>-0.321603</td>\n",
       "    </tr>\n",
       "    <tr>\n",
       "      <th>3</th>\n",
       "      <td>-1.048899</td>\n",
       "      <td>0.316185</td>\n",
       "      <td>-1.541392</td>\n",
       "      <td>-1.282632</td>\n",
       "      <td>-1.207955</td>\n",
       "      <td>-1.209492</td>\n",
       "      <td>-0.175815</td>\n",
       "      <td>-0.316288</td>\n",
       "      <td>1.229996</td>\n",
       "      <td>-0.588550</td>\n",
       "      <td>...</td>\n",
       "      <td>2.991994</td>\n",
       "      <td>-0.236099</td>\n",
       "      <td>-0.117616</td>\n",
       "      <td>-0.184302</td>\n",
       "      <td>-0.566474</td>\n",
       "      <td>-0.45319</td>\n",
       "      <td>-0.420847</td>\n",
       "      <td>-0.542848</td>\n",
       "      <td>3.691316</td>\n",
       "      <td>-0.321603</td>\n",
       "    </tr>\n",
       "    <tr>\n",
       "      <th>4</th>\n",
       "      <td>-1.027813</td>\n",
       "      <td>-1.775666</td>\n",
       "      <td>2.017178</td>\n",
       "      <td>-1.175738</td>\n",
       "      <td>-1.216690</td>\n",
       "      <td>-1.336363</td>\n",
       "      <td>-0.175815</td>\n",
       "      <td>-0.316288</td>\n",
       "      <td>-0.813011</td>\n",
       "      <td>1.699092</td>\n",
       "      <td>...</td>\n",
       "      <td>-0.334225</td>\n",
       "      <td>-0.236099</td>\n",
       "      <td>-0.117616</td>\n",
       "      <td>-0.184302</td>\n",
       "      <td>-0.566474</td>\n",
       "      <td>-0.45319</td>\n",
       "      <td>-0.420847</td>\n",
       "      <td>-0.542848</td>\n",
       "      <td>3.691316</td>\n",
       "      <td>-0.321603</td>\n",
       "    </tr>\n",
       "  </tbody>\n",
       "</table>\n",
       "<p>5 rows × 26 columns</p>\n",
       "</div>"
      ],
      "text/plain": [
       "      carat     depth     table         x         y         z  cut_Fair  \\\n",
       "0  0.448151  0.804283  1.127536  0.623652  0.521595  0.665375 -0.175815   \n",
       "1  0.595747 -0.520556  1.127536  0.792901  0.731237  0.679472 -0.175815   \n",
       "2 -0.943473  1.501566 -1.096570 -1.104475 -1.050723 -0.927557 -0.175815   \n",
       "3 -1.048899  0.316185 -1.541392 -1.282632 -1.207955 -1.209492 -0.175815   \n",
       "4 -1.027813 -1.775666  2.017178 -1.175738 -1.216690 -1.336363 -0.175815   \n",
       "\n",
       "   cut_Good  cut_Ideal  cut_Premium      ...        color_I   color_J  \\\n",
       "0 -0.316288  -0.813011     1.699092      ...      -0.334225 -0.236099   \n",
       "1 -0.316288  -0.813011     1.699092      ...      -0.334225  4.235517   \n",
       "2 -0.316288  -0.813011    -0.588550      ...      -0.334225 -0.236099   \n",
       "3 -0.316288   1.229996    -0.588550      ...       2.991994 -0.236099   \n",
       "4 -0.316288  -0.813011     1.699092      ...      -0.334225 -0.236099   \n",
       "\n",
       "   clarity_I1  clarity_IF  clarity_SI1  clarity_SI2  clarity_VS1  clarity_VS2  \\\n",
       "0   -0.117616   -0.184302    -0.566474     -0.45319     2.376159    -0.542848   \n",
       "1   -0.117616   -0.184302     1.765305     -0.45319    -0.420847    -0.542848   \n",
       "2   -0.117616   -0.184302    -0.566474     -0.45319     2.376159    -0.542848   \n",
       "3   -0.117616   -0.184302    -0.566474     -0.45319    -0.420847    -0.542848   \n",
       "4   -0.117616   -0.184302    -0.566474     -0.45319    -0.420847    -0.542848   \n",
       "\n",
       "   clarity_VVS1  clarity_VVS2  \n",
       "0     -0.270906     -0.321603  \n",
       "1     -0.270906     -0.321603  \n",
       "2     -0.270906     -0.321603  \n",
       "3      3.691316     -0.321603  \n",
       "4      3.691316     -0.321603  \n",
       "\n",
       "[5 rows x 26 columns]"
      ]
     },
     "execution_count": 7,
     "metadata": {},
     "output_type": "execute_result"
    }
   ],
   "source": [
    "print(\"The first 5 rows of train_x:\")\n",
    "\n",
    "train_x.head()"
   ]
  },
  {
   "cell_type": "code",
   "execution_count": 8,
   "metadata": {},
   "outputs": [
    {
     "name": "stdout",
     "output_type": "stream",
     "text": [
      "The first 5 rows of train_y:\n"
     ]
    },
    {
     "data": {
      "text/html": [
       "<div>\n",
       "<style scoped>\n",
       "    .dataframe tbody tr th:only-of-type {\n",
       "        vertical-align: middle;\n",
       "    }\n",
       "\n",
       "    .dataframe tbody tr th {\n",
       "        vertical-align: top;\n",
       "    }\n",
       "\n",
       "    .dataframe thead th {\n",
       "        text-align: right;\n",
       "    }\n",
       "</style>\n",
       "<table border=\"1\" class=\"dataframe\">\n",
       "  <thead>\n",
       "    <tr style=\"text-align: right;\">\n",
       "      <th></th>\n",
       "      <th>price</th>\n",
       "    </tr>\n",
       "  </thead>\n",
       "  <tbody>\n",
       "    <tr>\n",
       "      <th>0</th>\n",
       "      <td>7466</td>\n",
       "    </tr>\n",
       "    <tr>\n",
       "      <th>1</th>\n",
       "      <td>4173</td>\n",
       "    </tr>\n",
       "    <tr>\n",
       "      <th>2</th>\n",
       "      <td>792</td>\n",
       "    </tr>\n",
       "    <tr>\n",
       "      <th>3</th>\n",
       "      <td>532</td>\n",
       "    </tr>\n",
       "    <tr>\n",
       "      <th>4</th>\n",
       "      <td>997</td>\n",
       "    </tr>\n",
       "  </tbody>\n",
       "</table>\n",
       "</div>"
      ],
      "text/plain": [
       "   price\n",
       "0   7466\n",
       "1   4173\n",
       "2    792\n",
       "3    532\n",
       "4    997"
      ]
     },
     "execution_count": 8,
     "metadata": {},
     "output_type": "execute_result"
    }
   ],
   "source": [
    "print(\"The first 5 rows of train_y:\")\n",
    "\n",
    "train_y.head()"
   ]
  },
  {
   "cell_type": "markdown",
   "metadata": {},
   "source": [
    "## Algorithm\n",
    "\n",
    "kNN can now be applied to the data.\n",
    "\n",
    "The two key parameters that algorithm requires are the distance formula, and the number of nearest neighbors that will be used to calculate the predicted price of a diamond (k).\n",
    "\n",
    "The metric that we will be looking to minimize is that mean squared error. The following function is defined to create the kNN model with the specified parameters, apply the algorithm to the test data using the training data as a test set, and then compute the average MSE using the predicted price and the actual price."
   ]
  },
  {
   "cell_type": "code",
   "execution_count": 10,
   "metadata": {},
   "outputs": [],
   "source": [
    "def test_and_compute_mse(k, distance_algorithm, train_x, train_y, test_x, test_y):\n",
    "    model = KNeighborsRegressor(n_neighbors = k, metric = distance_algorithm)\n",
    "    model.fit(train_x, train_y)\n",
    "    predictions = model.predict(test_x)\n",
    "    average_mse = float(np.mean((test_y - predictions)**2))\n",
    "    return average_mse"
   ]
  },
  {
   "cell_type": "markdown",
   "metadata": {},
   "source": [
    "This function is tested using k=10 and the Euclidean distance formula below"
   ]
  },
  {
   "cell_type": "code",
   "execution_count": 11,
   "metadata": {},
   "outputs": [],
   "source": [
    "mse_10_euclidean = test_and_compute_mse(10, 'euclidean', train_x, train_y, test_x, test_y)"
   ]
  },
  {
   "cell_type": "code",
   "execution_count": 12,
   "metadata": {},
   "outputs": [
    {
     "name": "stdout",
     "output_type": "stream",
     "text": [
      "The average MSE  (using k = 10 and the Euclidean distance formula) is 878746.5271687061\n"
     ]
    }
   ],
   "source": [
    "print(\"The average MSE  (using k = 10 and the Euclidean distance formula) is \" + str(mse_10_euclidean))"
   ]
  },
  {
   "cell_type": "markdown",
   "metadata": {},
   "source": [
    "The mean MSE with parameters of k = 10 and the distance formula being the Euclidean is roughly 878746. That seems like quite a large but error, but to provide some more insight on how well the algorithm performs with these parameters, this number should be compared with the variance of the test data diamond values."
   ]
  },
  {
   "cell_type": "code",
   "execution_count": 13,
   "metadata": {},
   "outputs": [
    {
     "name": "stdout",
     "output_type": "stream",
     "text": [
      "The variance of the test data is 15719950.020250188\n",
      "The average MSE (using k = 10 and the Euclidean distance formula) divided by the variance of the test data diamond values 0.055900084035681974\n"
     ]
    }
   ],
   "source": [
    "var_test_y = float(np.var(test_y))\n",
    "print(\"The variance of the test data is \" + str(var_test_y))\n",
    "print(\"The average MSE (using k = 10 and the Euclidean distance formula) divided by the variance of the test data diamond \" + \n",
    "      \"values \" + str(mse_10_euclidean / var_test_y)) "
   ]
  },
  {
   "cell_type": "markdown",
   "metadata": {},
   "source": [
    "The average MSE is roughly 5% of the variance in the data. This is a good sanity check to see that the model is making decent predictions for this data set.\n",
    "\n",
    "It would be interesting to see how the average MSE changes as k changes. To accomplish this, the average MSE is calculated for every possible k in the range of (1, 20). The distance formula remains the Euclidean.\n",
    "\n",
    "These values will be stored in a dictionary (with (key, value) = (k, average mse)) so that they can be referred back to."
   ]
  },
  {
   "cell_type": "code",
   "execution_count": 14,
   "metadata": {},
   "outputs": [],
   "source": [
    "average_mses_euclidean_dict = {}\n",
    "\n",
    "for i in range(1,21):\n",
    "    average_mses_euclidean_dict[i] = test_and_compute_mse(i, 'euclidean', train_x, train_y, test_x, test_y)"
   ]
  },
  {
   "cell_type": "markdown",
   "metadata": {},
   "source": [
    "A bar graph can be created to visualize how the average MSE changes with the value of k."
   ]
  },
  {
   "cell_type": "code",
   "execution_count": 15,
   "metadata": {},
   "outputs": [
    {
     "data": {
      "image/png": "[encoded data removed]",
      "text/plain": [
       "<matplotlib.figure.Figure at 0x7f99198c2438>"
      ]
     },
     "metadata": {},
     "output_type": "display_data"
    }
   ],
   "source": [
    "k_values = []\n",
    "average_mses = []\n",
    "\n",
    "for key in average_mses_euclidean_dict:\n",
    "    k_values.append(key)\n",
    "    average_mses.append(average_mses_euclidean_dict[key])\n",
    "\n",
    "fig1, ax1 = plt.subplots()\n",
    "\n",
    "ax1.bar(k_values, average_mses, align='center', alpha=0.5)\n",
    "ax1.set_title(\"How average MSE changes with k using Euclidean Distance\")\n",
    "ax1.set_xticks(k_values)\n",
    "ax1.set_xlabel('k')\n",
    "ax1.set_ylabel('Average MSE')\n",
    "plt.show()"
   ]
  },
  {
   "cell_type": "code",
   "execution_count": 16,
   "metadata": {},
   "outputs": [
    {
     "name": "stdout",
     "output_type": "stream",
     "text": [
      "The minimum average MSE is equal to 726599.5862625139, achieved when k =  4\n"
     ]
    }
   ],
   "source": [
    "min_mse_euclidean = min(average_mses)\n",
    "min_mse_euclidean_k_value = min(average_mses_euclidean_dict, key=average_mses_euclidean_dict.get)\n",
    "\n",
    "print(\"The minimum average MSE is equal to \" + str(min_mse_euclidean) + \", achieved when k =  \" + \n",
    "      str(min_mse_euclidean_k_value))"
   ]
  },
  {
   "cell_type": "markdown",
   "metadata": {},
   "source": [
    "There are two more distance functions that this workbook will test besides the Euclidean, which are the Manhattan (defined as sum(|x - y|)), and the Chebyshev (defined as max(|x - y|)). The Euclidean dataset is not known to be very strong when mixing categorical and numerical data, so perhaps one of these other two will fair better.\n",
    "\n",
    "Again, the values are computed for each possible value of k in the range of [1, 20], and the results are visualized using a bar graph."
   ]
  },
  {
   "cell_type": "code",
   "execution_count": 17,
   "metadata": {},
   "outputs": [],
   "source": [
    "average_mses_manhattan_dict = {}\n",
    "average_mses_chebyshev_dict = {}\n",
    "\n",
    "for i in range(1,21):\n",
    "    average_mses_manhattan_dict[i] = test_and_compute_mse(i, 'manhattan', train_x, train_y, test_x, test_y)\n",
    "    average_mses_chebyshev_dict[i] = test_and_compute_mse(i, 'chebyshev', train_x, train_y, test_x, test_y)"
   ]
  },
  {
   "cell_type": "code",
   "execution_count": 18,
   "metadata": {},
   "outputs": [
    {
     "data": {
      "image/png": "[encoded data removed]",
      "text/plain": [
       "<matplotlib.figure.Figure at 0x7f99198c2780>"
      ]
     },
     "metadata": {},
     "output_type": "display_data"
    }
   ],
   "source": [
    "k_values = []\n",
    "average_mses = []\n",
    "\n",
    "for key in average_mses_manhattan_dict:\n",
    "    k_values.append(key)\n",
    "    average_mses.append(average_mses_manhattan_dict[key])\n",
    "\n",
    "fig2, ax2 = plt.subplots()    \n",
    "\n",
    "\n",
    "ax2.bar(k_values, average_mses, align='center', alpha=0.5)\n",
    "ax2.set_title(\"How average MSE changes with k using Manhattan Distance\")\n",
    "ax2.set_xticks(k_values)\n",
    "ax2.set_xlabel('k')\n",
    "ax2.set_ylabel('Average MSE')\n",
    "plt.show()"
   ]
  },
  {
   "cell_type": "code",
   "execution_count": 19,
   "metadata": {},
   "outputs": [
    {
     "name": "stdout",
     "output_type": "stream",
     "text": [
      "The minimum average MSE is equal to 545466.588445495, achieved when k =  4\n"
     ]
    }
   ],
   "source": [
    "min_mse_manhattan = min(average_mses)\n",
    "min_mse_manhattan_k_value = min(average_mses_manhattan_dict, key=average_mses_manhattan_dict.get)\n",
    "\n",
    "print(\"The minimum average MSE is equal to \" + str(min_mse_manhattan) + \", achieved when k =  \" + \n",
    "      str(min_mse_manhattan_k_value))"
   ]
  },
  {
   "cell_type": "code",
   "execution_count": 21,
   "metadata": {},
   "outputs": [
    {
     "data": {
      "image/png": "[encoded data removed]",
      "text/plain": [
       "<matplotlib.figure.Figure at 0x7f99194261d0>"
      ]
     },
     "metadata": {},
     "output_type": "display_data"
    }
   ],
   "source": [
    "k_values = []\n",
    "average_mses = []\n",
    "\n",
    "for key in average_mses_chebyshev_dict:\n",
    "    k_values.append(key)\n",
    "    average_mses.append(average_mses_chebyshev_dict[key])\n",
    "\n",
    "fig3, ax3 = plt.subplots()    \n",
    "\n",
    "ax3.bar(k_values, average_mses, align='center', alpha=0.5)\n",
    "ax3.set_title(\"How average MSE changes with k using Chebyshev Distance\")\n",
    "ax3.set_xticks(k_values)\n",
    "ax3.set_xlabel('k')\n",
    "ax3.set_ylabel('Average MSE')\n",
    "plt.show()"
   ]
  },
  {
   "cell_type": "code",
   "execution_count": 22,
   "metadata": {},
   "outputs": [
    {
     "name": "stdout",
     "output_type": "stream",
     "text": [
      "The minimum average MSE is equal to 1090156.709176863, achieved when k = 2\n"
     ]
    }
   ],
   "source": [
    "min_mse_chebyshev = min(average_mses)\n",
    "min_mse_chebyshev_k_value = min(average_mses_chebyshev_dict, key=average_mses_chebyshev_dict.get)\n",
    "\n",
    "print(\"The minimum average MSE is equal to \" + str(min_mse_chebyshev) + \", achieved when k = \" + \n",
    "      str(min_mse_chebyshev_k_value))"
   ]
  },
  {
   "cell_type": "markdown",
   "metadata": {},
   "source": [
    "Interestingly, using the Manhattan distance formula led to smallest Average MSE of roughly 545,000, while the Chebyshev resulted in the far greatest of over 1,000,000. All 3 graphs have the same 'swoosh' shape, with a sharp decrease in Average MSE when k increases from k=1 to k=2, a more steady decrease to when k=3 or k=4, before it gradually increases up to k = 20. The Chebyshev has the smallest decrease between values of k=1 and k=2.\n",
    "\n",
    "To examine why Chebyshev performs a lot worse than the other two distance formulas, it is neccessary to examine what the largest difference between each feature of a sample of observations from the dataset (since that is how Chebyshev distance is calculated). Even though the data has been normalized, categorical features are by far the most likely to have the greatest absolute difference between any two random points. This is shown below."
   ]
  },
  {
   "cell_type": "code",
   "execution_count": 23,
   "metadata": {},
   "outputs": [
    {
     "name": "stdout",
     "output_type": "stream",
     "text": [
      "{'clarity_SI1': 260, 'cut_Very Good': 49, 'cut_Ideal': 9, 'color_I': 113, 'z': 24, 'color_G': 157, 'y': 1, 'clarity_VVS1': 516, 'color_J': 86, 'clarity_VS2': 1320, 'clarity_VVS2': 736, 'color_E': 38, 'clarity_SI2': 504, 'color_F': 73, 'color_H': 208, 'clarity_IF': 25, 'cut_Premium': 31, 'clarity_VS1': 800}\n"
     ]
    }
   ],
   "source": [
    "tally = {}\n",
    "\n",
    "for i in range(0, 100):\n",
    "    for j in range(i + 1, 100):\n",
    "        max_distance = 0\n",
    "        max_column = None\n",
    "        for column in train_x:\n",
    "            distance = abs(train_x[column][i] - train_x[column][j])\n",
    "            if distance > max_distance:\n",
    "                distance = max_distance\n",
    "                max_column = column\n",
    "        if max_column in tally:\n",
    "            tally[max_column] += 1\n",
    "        else:\n",
    "            tally[max_column] = 1\n",
    "\n",
    "print(tally)"
   ]
  },
  {
   "cell_type": "markdown",
   "metadata": {},
   "source": [
    "In this function, a sample of 100 observations from the training data set is taken. For each pair of points in the dataset, the feature with maximum absolute difference between the two points is determined, and a tally is kept using a dictionary. \n",
    "\n",
    "Out of the roughly 10,000 distances computed between all of the observations, by far and away the features with the maximum absolute difference were categorical. This makes sense, since there are a lot more categorical variables then numerical ones. However, that means that the continuous features are being vastly overlooked when kNN is applied using the Chebyshev distance formula."
   ]
  },
  {
   "cell_type": "markdown",
   "metadata": {},
   "source": [
    "## Weighted Variation\n",
    "\n",
    "Every use of the kNN that has occured so far has been unweighted. That means that when a price prediction for an observation in the test data set, each of that diamond's k nearest neighbors is weighted equally when computing their average price. Sci-Kit Learn also has a weighted version of the algorithm, where each of the k nearest neighbors' price is multiplied by the following:\n",
    "\n",
    "1 / d(Xi, Xq)^2\n",
    "\n",
    "where d(Xi, Xq) is the distance between the query diamond and one of its nearest neighbors. This results in the closest neighbors being weighted higher when computing the predicted price.\n",
    "\n",
    "To see how using this weighted version of kNN compares, the first step is to create a new function that uses the weighted version of the algorithm."
   ]
  },
  {
   "cell_type": "code",
   "execution_count": 24,
   "metadata": {},
   "outputs": [],
   "source": [
    "def test_and_compute_mse_weighted(k, distance_algorithm, train_x, train_y, test_x, test_y):\n",
    "    model = KNeighborsRegressor(n_neighbors = k, metric = distance_algorithm, weights = 'distance')\n",
    "    model.fit(train_x, train_y)\n",
    "    predictions = model.predict(test_x)\n",
    "    average_mse = float(np.mean((test_y - predictions)**2))\n",
    "    return average_mse"
   ]
  },
  {
   "cell_type": "code",
   "execution_count": 25,
   "metadata": {},
   "outputs": [],
   "source": [
    "average_mses_euclidean_weighted_dict = {}\n",
    "average_mses_manhattan_weighted_dict = {}\n",
    "average_mses_chebyshev_weighted_dict = {}\n",
    "\n",
    "for i in range(1,21):\n",
    "    average_mses_euclidean_weighted_dict[i] = test_and_compute_mse_weighted(i, 'euclidean', train_x, train_y, test_x, test_y)\n",
    "    average_mses_manhattan_weighted_dict[i] = test_and_compute_mse_weighted(i, 'manhattan', train_x, train_y, test_x, test_y)\n",
    "    average_mses_chebyshev_weighted_dict[i] = test_and_compute_mse_weighted(i, 'chebyshev', train_x, train_y, test_x, test_y)"
   ]
  },
  {
   "cell_type": "code",
   "execution_count": 26,
   "metadata": {},
   "outputs": [
    {
     "data": {
      "image/png": "[encoded data removed]",
      "text/plain": [
       "<matplotlib.figure.Figure at 0x7f991925f198>"
      ]
     },
     "metadata": {},
     "output_type": "display_data"
    }
   ],
   "source": [
    "k_values = []\n",
    "average_mses = []\n",
    "\n",
    "for key in average_mses_euclidean_weighted_dict:\n",
    "    k_values.append(key)\n",
    "    average_mses.append(average_mses_euclidean_weighted_dict[key])\n",
    "\n",
    "fig4, ax4 = plt.subplots()    \n",
    "\n",
    "ax4.bar(k_values, average_mses, align='center', alpha=0.5)\n",
    "ax4.set_title(\"How average MSE changes with k using Euclidean Distance - Weighted\")\n",
    "ax4.set_xticks(k_values)\n",
    "ax4.set_xlabel('k')\n",
    "ax4.set_ylabel('Average MSE')\n",
    "plt.show()"
   ]
  },
  {
   "cell_type": "code",
   "execution_count": 27,
   "metadata": {},
   "outputs": [
    {
     "name": "stdout",
     "output_type": "stream",
     "text": [
      "The minimum average MSE using the Euclidean distance is equal to 641275.3818165851, achieved when k = 4\n"
     ]
    }
   ],
   "source": [
    "min_mse_euclidean_weighted = min(average_mses)\n",
    "min_mse_euclidean_weighted_k_value = min(average_mses_euclidean_dict, key=average_mses_euclidean_dict.get)\n",
    "\n",
    "print(\"The minimum average MSE using the Euclidean distance is equal to \" + str(min_mse_euclidean_weighted) \n",
    "      + \", achieved when k = \" + str(min_mse_euclidean_weighted_k_value))"
   ]
  },
  {
   "cell_type": "code",
   "execution_count": 28,
   "metadata": {},
   "outputs": [
    {
     "data": {
      "image/png": "[encoded data removed]",
      "text/plain": [
       "<matplotlib.figure.Figure at 0x7f99191e19b0>"
      ]
     },
     "metadata": {},
     "output_type": "display_data"
    }
   ],
   "source": [
    "k_values = []\n",
    "average_mses = []\n",
    "\n",
    "for key in average_mses_manhattan_weighted_dict:\n",
    "    k_values.append(key)\n",
    "    average_mses.append(average_mses_manhattan_weighted_dict[key])\n",
    "\n",
    "fig5, ax5 = plt.subplots()    \n",
    "\n",
    "ax5.bar(k_values, average_mses, align='center', alpha=0.5)\n",
    "ax5.set_title(\"How average MSE changes with k using Manhattan Distance - Weighted\")\n",
    "ax5.set_xticks(k_values)\n",
    "ax5.set_xlabel('k')\n",
    "ax5.set_ylabel('Average MSE')\n",
    "plt.show()"
   ]
  },
  {
   "cell_type": "code",
   "execution_count": 29,
   "metadata": {},
   "outputs": [
    {
     "name": "stdout",
     "output_type": "stream",
     "text": [
      "The minimum average MSE when using the Manhattan distance is equal to 494489.1265966323, achieved when k = 6\n"
     ]
    }
   ],
   "source": [
    "min_mse_manhattan_weighted = min(average_mses)\n",
    "min_mse_manhattan_weighted_k_value = min(average_mses_manhattan_weighted_dict, key=average_mses_manhattan_weighted_dict.get)\n",
    "\n",
    "print(\"The minimum average MSE when using the Manhattan distance is equal to \" + str(min_mse_manhattan_weighted) \n",
    "      + \", achieved when k = \" + str(min_mse_manhattan_weighted_k_value))"
   ]
  },
  {
   "cell_type": "code",
   "execution_count": 30,
   "metadata": {},
   "outputs": [
    {
     "data": {
      "image/png": "[encoded data removed]",
      "text/plain": [
       "<matplotlib.figure.Figure at 0x7f991914c9e8>"
      ]
     },
     "metadata": {},
     "output_type": "display_data"
    }
   ],
   "source": [
    "k_values = []\n",
    "average_mses = []\n",
    "\n",
    "for key in average_mses_chebyshev_weighted_dict:\n",
    "    k_values.append(key)\n",
    "    average_mses.append(average_mses_chebyshev_weighted_dict[key])\n",
    "\n",
    "fig6, ax6 = plt.subplots()    \n",
    "\n",
    "ax6.bar(k_values, average_mses, align='center', alpha=0.5)\n",
    "ax6.set_title(\"How average MSE changes with k using Chebyshev Distance - Weighted\")\n",
    "ax6.set_xticks(k_values)\n",
    "ax6.set_xlabel('k')\n",
    "ax6.set_ylabel('Average MSE')\n",
    "plt.show()"
   ]
  },
  {
   "cell_type": "code",
   "execution_count": 31,
   "metadata": {},
   "outputs": [
    {
     "name": "stdout",
     "output_type": "stream",
     "text": [
      "The minimum average MSE using the Chebyshev distance is equal to 970445.3920100305, achieved when k = 4\n"
     ]
    }
   ],
   "source": [
    "min_mse_chebyshev_weighted = min(average_mses)\n",
    "min_mse_chebyshev_weighted_k_value = min(average_mses_chebyshev_weighted_dict, key=average_mses_chebyshev_weighted_dict.get)\n",
    "\n",
    "print(\"The minimum average MSE using the Chebyshev distance is equal to \" + str(min_mse_chebyshev_weighted) \n",
    "      + \", achieved when k = \" + str(min_mse_chebyshev_weighted_k_value))"
   ]
  },
  {
   "cell_type": "markdown",
   "metadata": {},
   "source": [
    "For all 3 distance formulas, the weighted version of the algorithm performed better than the unweighted version, which was expected. "
   ]
  },
  {
   "cell_type": "markdown",
   "metadata": {},
   "source": [
    "## PCA\n",
    "\n",
    "The data has 26 features, which may be more than optimal, and some of which are correlated with each other (for example, depth percentage is heavily correlated with length, width, and height). Therefore, in this next section of the workbook, the dimensionality of the dataset is reduced using PCA. Then, kNN is applied to the transformed data set.\n",
    "\n",
    "The first step in this process is to create a function that takes as a paramater the number of components the data will be reduced to, then have it apply PCA, use kNN on the reduced data, and then compute the minimum average MSE using multiple different values of k. That way, this function can be called muliple times with different values for the number of principal components, and see how the results compare.\n",
    "\n",
    "PCA cannot be applied separatley to the train and test data sets. They must first be combined. Additionally, train_y and test_y must be rejoined with the PCA data so that it can be split back into the PCA-transformed test and training sets properly. After this is complete, the average MSE for every value of k from [1, max_k] is computed, and the minimum of these values is returned along with the corresponding value for k in a tuple."
   ]
  },
  {
   "cell_type": "code",
   "execution_count": 79,
   "metadata": {},
   "outputs": [],
   "source": [
    "def compute_min_mse_on_pca_data(number_of_components, max_k, distance_algorithm, weighted, train_x, train_y, test_x, test_y):\n",
    "    \n",
    "    pca = PCA(n_components = number_of_components, random_state = 3)\n",
    "    pca_data = pd.DataFrame(pca.fit_transform(pd.concat([train_x, test_x]))).reset_index(drop=True)\n",
    "    pca_data = pca_data.join(pd.concat([train_y, test_y]).reset_index(drop=True))\n",
    "    \n",
    "    train_pca, test_pca = train_test_split(pca_data, test_size=.25, random_state = 3)\n",
    "    \n",
    "    train_x_pca = train_pca.drop('price', 1)\n",
    "    train_y_pca = pd.DataFrame(train_pca['price'].values.reshape(len(train_pca), 1), columns = [\"price\"])\n",
    "    test_x_pca = test_pca.drop('price', 1)\n",
    "    test_y_pca = pd.DataFrame(test_pca['price'].values.reshape(len(test_pca), 1), columns = [\"price\"])\n",
    "    \n",
    "    average_mse_values = []\n",
    "    \n",
    "    for k in range(1, max_k + 1):\n",
    "        if weighted:\n",
    "            average_mse_values.append(test_and_compute_mse_weighted(k, distance_algorithm, train_x_pca, \n",
    "                                                           train_y_pca, test_x_pca, test_y_pca))\n",
    "        else:\n",
    "            average_mse_values.append(test_and_compute_mse(k, distance_algorithm,  train_x_pca, train_y_pca,\n",
    "                                                                     test_x_pca, test_y_pca))\n",
    "    min_average_mse = min(average_mse_values)\n",
    "    return min_average_mse, average_mse_values.index(min_average_mse) + 1"
   ]
  },
  {
   "cell_type": "markdown",
   "metadata": {
    "collapsed": true
   },
   "source": [
    "Next, the data is transformed into every possible number of principal components in the range of [1, 20]. The above function, with a max_k = 20, is called for each variation of the kNN algorithm that was tested on the non-PCA data from before. The results are stored in an aptly name dictionary."
   ]
  },
  {
   "cell_type": "code",
   "execution_count": 33,
   "metadata": {},
   "outputs": [],
   "source": [
    "average_mses_pca_euclidean_weighted = {}\n",
    "average_mses_pca_euclidean = {}\n",
    "average_mses_pca_manhattan_weighted = {}\n",
    "average_mses_pca_manhattan = {}\n",
    "average_mses_pca_chebyshev_weighted = {}\n",
    "average_mses_pca_chebyshev = {}\n",
    "\n",
    "for i in range (1, 21):\n",
    "    average_mses_pca_euclidean_weighted[i] = compute_min_mse_on_pca_data(i, 20, \"euclidean\", True, \n",
    "                                                                         train_x, train_y, test_x, test_y)\n",
    "    average_mses_pca_euclidean[i] = compute_min_mse_on_pca_data(i, 20, \"euclidean\", False, \n",
    "                                                                train_x, train_y, test_x, test_y)\n",
    "    average_mses_pca_manhattan_weighted[i] = compute_min_mse_on_pca_data(i, 20, \"manhattan\", \n",
    "                                                                         True, train_x, train_y, test_x, test_y)\n",
    "    average_mses_pca_manhattan[i] = compute_min_mse_on_pca_data(i, 20, \"manhattan\", False, \n",
    "                                                                train_x, train_y, test_x, test_y)\n",
    "    average_mses_pca_chebyshev_weighted[i] = compute_min_mse_on_pca_data(i, 20, \"chebyshev\", \n",
    "                                                                         True, train_x, train_y, test_x, test_y)\n",
    "    average_mses_pca_chebyshev[i] = compute_min_mse_on_pca_data(i, 20, \"chebyshev\", \n",
    "                                                                False, train_x, train_y, test_x, test_y)\n"
   ]
  },
  {
   "cell_type": "markdown",
   "metadata": {},
   "source": [
    "Now, the results are plotted below to visualize how the minimum possible Average MSE (computed for every k in the range of [1, 20]) changes as the number of principal components increases from 1 to 20."
   ]
  },
  {
   "cell_type": "code",
   "execution_count": 34,
   "metadata": {},
   "outputs": [
    {
     "data": {
      "image/png": "[encoded data removed]",
      "text/plain": [
       "<matplotlib.figure.Figure at 0x7f9919136860>"
      ]
     },
     "metadata": {},
     "output_type": "display_data"
    }
   ],
   "source": [
    "pca_values = []\n",
    "average_mses = []\n",
    "\n",
    "for key in average_mses_pca_euclidean_weighted:\n",
    "    pca_values.append(key)\n",
    "    average_mses.append(average_mses_pca_euclidean_weighted[key][0])\n",
    "\n",
    "fig8, ax8 = plt.subplots()\n",
    "\n",
    "ax8.bar(pca_values, average_mses, align='center', alpha=0.5)\n",
    "ax8.set_title(\"How minimum average MSE changes with # of Principal Components Using Euclidean Distance - Weighted\")\n",
    "ax8.set_xticks(pca_values)\n",
    "ax8.set_xlabel('Number of Principal Components')\n",
    "ax8.set_ylabel('Minimum Average MSE achieved')\n",
    "plt.show()"
   ]
  },
  {
   "cell_type": "code",
   "execution_count": 37,
   "metadata": {},
   "outputs": [
    {
     "name": "stdout",
     "output_type": "stream",
     "text": [
      "The minimum average MSE when using the Eucldiean distance and weighted variation is equal to 514848.51800000307, achieved when the number of principal components = 8, and when k = 5\n"
     ]
    }
   ],
   "source": [
    "min_mse_pca_euclidean_weighted = min(average_mses)\n",
    "min_mse_eulcidean_weighted_pca_value = min(average_mses_pca_euclidean_weighted, key=average_mses_pca_euclidean_weighted.get)\n",
    "min_k_pca_euclidean_weighted = average_mses_pca_euclidean_weighted[min_mse_eulcidean_weighted_pca_value][1]\n",
    "\n",
    "print(\"The minimum average MSE when using the Eucldiean distance and weighted variation is equal to \" \n",
    "      + str(min_mse_pca_euclidean_weighted) + \", achieved when the number of principal components = \" \n",
    "      + str(min_mse_eulcidean_weighted_pca_value) + \", and when k = \" + str(min_k_pca_euclidean_weighted))"
   ]
  },
  {
   "cell_type": "code",
   "execution_count": 68,
   "metadata": {},
   "outputs": [
    {
     "data": {
      "image/png": "[encoded data removed]",
      "text/plain": [
       "<matplotlib.figure.Figure at 0x7f9918b33710>"
      ]
     },
     "metadata": {},
     "output_type": "display_data"
    }
   ],
   "source": [
    "pca_values = []\n",
    "average_mses = []\n",
    "\n",
    "for key in average_mses_pca_euclidean:\n",
    "    pca_values.append(key)\n",
    "    average_mses.append(average_mses_pca_euclidean[key][0])\n",
    "\n",
    "fig9, ax9 = plt.subplots()    \n",
    "\n",
    "ax9.bar(pca_values, average_mses, align='center', alpha=0.5)\n",
    "ax9.set_title(\"How minimum average MSE changes with # of Principal Components Using Euclidean Distance - Unweighted\")\n",
    "ax9.set_xticks(pca_values)\n",
    "ax9.set_xlabel('Number of Principal Components')\n",
    "ax9.set_ylabel('Minimum Average MSE achieved')\n",
    "plt.show()"
   ]
  },
  {
   "cell_type": "code",
   "execution_count": 69,
   "metadata": {},
   "outputs": [
    {
     "name": "stdout",
     "output_type": "stream",
     "text": [
      "The minimum average MSE when using the Eucldiean distance and unweighted variation is equal to 571305.6000092695, achieved when the number of principal components = 8, and when k = 4\n"
     ]
    }
   ],
   "source": [
    "min_mse_pca_euclidean = min(average_mses)\n",
    "min_mse_euclidean_pca_value = min(average_mses_pca_euclidean, key=average_mses_pca_euclidean.get)\n",
    "min_k_pca_euclidean = average_mses_pca_euclidean[min_mse_euclidean_pca_value][1]\n",
    "\n",
    "\n",
    "print(\"The minimum average MSE when using the Eucldiean distance and unweighted variation is equal to \" \n",
    "      + str(min_mse_pca_euclidean) + \", achieved when the number of principal components = \" \n",
    "      + str(min_mse_euclidean_pca_value) + \", and when k = \" + str(min_k_pca_euclidean))"
   ]
  },
  {
   "cell_type": "code",
   "execution_count": 70,
   "metadata": {},
   "outputs": [
    {
     "data": {
      "image/png": "[encoded data removed]",
      "text/plain": [
       "<matplotlib.figure.Figure at 0x7f9918b3b6a0>"
      ]
     },
     "metadata": {},
     "output_type": "display_data"
    }
   ],
   "source": [
    "pca_values = []\n",
    "average_mses = []\n",
    "\n",
    "for key in average_mses_pca_chebyshev:\n",
    "    pca_values.append(key)\n",
    "    average_mses.append(average_mses_pca_chebyshev[key][0])\n",
    "\n",
    "fig10, ax10 = plt.subplots()    \n",
    "\n",
    "ax10.bar(pca_values, average_mses, align='center', alpha=0.5)\n",
    "ax10.set_title(\"How minimum average MSE changes with # of Principal Components Using Chebyshev Distance - Unweighted\")\n",
    "ax10.set_xticks(pca_values)\n",
    "ax10.set_xlabel('Number of Principal Components')\n",
    "ax10.set_ylabel('Minimum Average MSE achieved')\n",
    "plt.show()"
   ]
  },
  {
   "cell_type": "code",
   "execution_count": 71,
   "metadata": {},
   "outputs": [
    {
     "name": "stdout",
     "output_type": "stream",
     "text": [
      "The minimum average MSE when using the Chebyshev distance and unweighted variation is equal to 608727.5930704898, achieved when the number of principal components = 17, and when k = 3\n"
     ]
    }
   ],
   "source": [
    "min_mse_pca_chebyshev = min(average_mses)\n",
    "min_mse_chebyshev_pca_value = min(average_mses_pca_chebyshev, key=average_mses_pca_chebyshev.get)\n",
    "min_k_pca_chebyshev = average_mses_pca_chebyshev[min_mse_chebyshev_pca_value][1]\n",
    "\n",
    "\n",
    "print(\"The minimum average MSE when using the Chebyshev distance and unweighted variation is equal to \" \n",
    "      + str(min_mse_pca_chebyshev) + \", achieved when the number of principal components = \" \n",
    "      + str(min_mse_chebyshev_pca_value) + \", and when k = \" + str(min_k_pca_chebyshev))"
   ]
  },
  {
   "cell_type": "code",
   "execution_count": 72,
   "metadata": {},
   "outputs": [
    {
     "data": {
      "image/png": "[encoded data removed]",
      "text/plain": [
       "<matplotlib.figure.Figure at 0x7f99161a4ac8>"
      ]
     },
     "metadata": {},
     "output_type": "display_data"
    }
   ],
   "source": [
    "pca_values = []\n",
    "average_mses = []\n",
    "\n",
    "for key in average_mses_pca_chebyshev_weighted:\n",
    "    pca_values.append(key)\n",
    "    average_mses.append(average_mses_pca_chebyshev_weighted[key][0])\n",
    "\n",
    "fig11, ax11 = plt.subplots()    \n",
    "\n",
    "ax11.bar(pca_values, average_mses, align='center', alpha=0.5)\n",
    "ax11.set_title(\"How minimum average MSE changes with # of Principal Components Using Chebyshev Distance - Weighted\")\n",
    "ax11.set_xticks(pca_values)\n",
    "ax11.set_xlabel('Number of Principal Components')\n",
    "ax11.set_ylabel('Minimum Average MSE achieved')\n",
    "plt.show()"
   ]
  },
  {
   "cell_type": "code",
   "execution_count": 73,
   "metadata": {},
   "outputs": [
    {
     "name": "stdout",
     "output_type": "stream",
     "text": [
      "The minimum average MSE when using the Chebyshev distance and weighted variation is equal to 536910.6625182477, achieved when the number of principal components = 17, and when k = 6\n"
     ]
    }
   ],
   "source": [
    "min_mse_pca_chebyshev_weighted = min(average_mses)\n",
    "min_mse_chebyshev_weighted_pca_value = min(average_mses_pca_chebyshev_weighted, key=average_mses_pca_chebyshev_weighted.get)\n",
    "min_k_pca_chebyshev_weighted = average_mses_pca_chebyshev_weighted[min_mse_chebyshev_weighted_pca_value][1]\n",
    "\n",
    "\n",
    "print(\"The minimum average MSE when using the Chebyshev distance and weighted variation is equal to \" \n",
    "      + str(min_mse_pca_chebyshev_weighted) + \", achieved when the number of principal components = \" \n",
    "      + str(min_mse_chebyshev_weighted_pca_value) + \", and when k = \" + str(min_k_pca_chebyshev_weighted))"
   ]
  },
  {
   "cell_type": "code",
   "execution_count": 74,
   "metadata": {},
   "outputs": [
    {
     "data": {
      "image/png": "[encoded data removed]",
      "text/plain": [
       "<matplotlib.figure.Figure at 0x7f99161768d0>"
      ]
     },
     "metadata": {},
     "output_type": "display_data"
    }
   ],
   "source": [
    "pca_values = []\n",
    "average_mses = []\n",
    "\n",
    "for key in average_mses_pca_manhattan_weighted:\n",
    "    pca_values.append(key)\n",
    "    average_mses.append(average_mses_pca_manhattan_weighted[key][0])\n",
    "\n",
    "fig12, ax12 = plt.subplots()    \n",
    "\n",
    "ax12.bar(pca_values, average_mses, align='center', alpha=0.5)\n",
    "ax12.set_title(\"How minimum average MSE changes with # of Principal Components Using Manhattan Distance - Weighted\")\n",
    "ax12.set_xticks(pca_values)\n",
    "ax12.set_xlabel('Number of Principal Components')\n",
    "ax12.set_ylabel('Minimum Average MSE achieved')\n",
    "plt.show()"
   ]
  },
  {
   "cell_type": "code",
   "execution_count": 75,
   "metadata": {},
   "outputs": [
    {
     "name": "stdout",
     "output_type": "stream",
     "text": [
      "The minimum average MSE when using the Manhattan distance and weighted variation is equal to 546334.0649937572, achieved when the number of principal components = 8, and when k = 4\n"
     ]
    }
   ],
   "source": [
    "min_mse_pca_manhattan_weighted = min(average_mses)\n",
    "min_mse_manhattan_weighted_pca_value = min(average_mses_pca_manhattan_weighted, key=average_mses_pca_manhattan_weighted.get)\n",
    "min_k_pca_manhattan_weighted = average_mses_pca_manhattan_weighted[min_mse_manhattan_weighted_pca_value][1]\n",
    "\n",
    "print(\"The minimum average MSE when using the Manhattan distance and weighted variation is equal to \" \n",
    "      + str(min_mse_pca_manhattan_weighted) + \", achieved when the number of principal components = \" \n",
    "      + str(min_mse_manhattan_weighted_pca_value) + \", and when k = \" + str(min_k_pca_manhattan_weighted))"
   ]
  },
  {
   "cell_type": "code",
   "execution_count": 76,
   "metadata": {},
   "outputs": [
    {
     "data": {
      "image/png": "[encoded data removed]",
      "text/plain": [
       "<matplotlib.figure.Figure at 0x7f99160e5d68>"
      ]
     },
     "metadata": {},
     "output_type": "display_data"
    }
   ],
   "source": [
    "pca_values = []\n",
    "average_mses = []\n",
    "\n",
    "for key in average_mses_pca_manhattan:\n",
    "    pca_values.append(key)\n",
    "    average_mses.append(average_mses_pca_manhattan[key][0])\n",
    "\n",
    "fig13, ax13 = plt.subplots()    \n",
    "\n",
    "ax13.bar(pca_values, average_mses, align='center', alpha=0.5)\n",
    "ax13.set_title(\"How minimum average MSE changes with # of Principal Components Using Manhattan Distance - Unweighted\")\n",
    "ax13.set_xticks(pca_values)\n",
    "ax13.set_xlabel('Number of Principal Components')\n",
    "ax13.set_ylabel('Minimum Average MSE achieved')\n",
    "plt.show()"
   ]
  },
  {
   "cell_type": "code",
   "execution_count": 77,
   "metadata": {},
   "outputs": [
    {
     "name": "stdout",
     "output_type": "stream",
     "text": [
      "The minimum average MSE when using the Manhattan distance and unweighted variation is equal to 613384.0428439006, achieved when the number of principal components = 8, and when k = 4\n"
     ]
    }
   ],
   "source": [
    "min_mse_pca_manhattan = min(average_mses)\n",
    "min_mse_manhattan_pca_value = min(average_mses_pca_manhattan, key=average_mses_pca_manhattan.get)\n",
    "min_k_pca_manhattan = average_mses_pca_manhattan[min_mse_manhattan_pca_value][1]\n",
    "\n",
    "\n",
    "print(\"The minimum average MSE when using the Manhattan distance and unweighted variation is equal to \" \n",
    "      + str(min_mse_pca_manhattan) + \", achieved when the number of principal components = \" \n",
    "      + str(min_mse_manhattan_pca_value) + \", and when k = \" + str(min_k_pca_manhattan))"
   ]
  },
  {
   "cell_type": "markdown",
   "metadata": {},
   "source": [
    "All of these graphs look very similar. This highlights that there is not much of a difference the results of different kNN variations using different distance formulas or if it's weighted/unweighted.\n",
    "\n",
    "This is shown in the following graph:"
   ]
  },
  {
   "cell_type": "code",
   "execution_count": 78,
   "metadata": {},
   "outputs": [
    {
     "data": {
      "image/png": "[encoded data removed]",
      "text/plain": [
       "<matplotlib.figure.Figure at 0x7f9918b82518>"
      ]
     },
     "metadata": {},
     "output_type": "display_data"
    }
   ],
   "source": [
    "all_min_mse = [min_mse_pca_manhattan, min_mse_pca_chebyshev, min_mse_pca_euclidean, \n",
    "               min_mse_pca_manhattan_weighted, min_mse_pca_chebyshev_weighted, min_mse_pca_euclidean_weighted]\n",
    "\n",
    "for key in average_mses_pca_manhattan:\n",
    "    pca_values.append(key)\n",
    "    average_mses.append(average_mses_pca_manhattan[key])\n",
    "\n",
    "fig13, ax13 = plt.subplots()    \n",
    "variations = [0, 'M - UW', 'C - UW', 'E - UW', 'M - W', 'C - W', 'E - W']\n",
    "ax13.bar(y_pos, all_min_mse, align='center', alpha=0.5)\n",
    "ax13.set_title(\"Comparison of best Performances Acheived on PCA Data\")\n",
    "ax13.set_xticklabels(variations)\n",
    "ax13.set_xlabel('Variation of algorithm')\n",
    "ax13.set_ylabel('Minimum Average MSE Achieved')\n",
    "plt.show()"
   ]
  },
  {
   "cell_type": "markdown",
   "metadata": {},
   "source": [
    "Regardless, transforming the data into principal components did not result in a lower MSE than what was achieved using a weighted implementation of kNN on the original data, with Manhattan distance formula and k = 4."
   ]
  },
  {
   "cell_type": "markdown",
   "metadata": {},
   "source": [
    "## Sources\n",
    "\n",
    "https://en.wikipedia.org/wiki/K-nearest_neighbors_algorithm\n",
    "\n",
    "https://www.ncbi.nlm.nih.gov/pmc/articles/PMC4978658/\n",
    "\n",
    "http://scikit-learn.org/stable/modules/generated/sklearn.neighbors.KNeighborsRegressor.html#sklearn.neighbors.KNeighborsRegressor\n",
    "\n",
    "http://scikit-learn.org/stable/modules/generated/sklearn.neighbors.KNeighborsRegressor.html#sklearn.neighbors.KNeighborsRegressor\n",
    "\n",
    "http://www.data-machine.com/nmtutorial/distanceweightedknnalgorithm.htm"
   ]
  },
  {
   "cell_type": "code",
   "execution_count": null,
   "metadata": {},
   "outputs": [],
   "source": []
  }
 ],
 "metadata": {
  "kernelspec": {
   "display_name": "Python 3",
   "language": "python",
   "name": "python3"
  },
  "language_info": {
   "codemirror_mode": {
    "name": "ipython",
    "version": 3
   },
   "file_extension": ".py",
   "mimetype": "text/x-python",
   "name": "python",
   "nbconvert_exporter": "python",
   "pygments_lexer": "ipython3",
   "version": "3.4.3"
  }
 },
 "nbformat": 4,
 "nbformat_minor": 2
}
