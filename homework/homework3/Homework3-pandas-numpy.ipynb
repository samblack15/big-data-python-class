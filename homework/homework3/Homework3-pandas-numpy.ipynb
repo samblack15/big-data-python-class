{
 "cells": [
  {
   "cell_type": "markdown",
   "metadata": {},
   "source": [
    "# Homework 3  - Tryout pandas and numpy\n",
    "\n",
    "Copy this notebook. Rename it as: YOURNAME-Homework-panda-numpy-Sept-2017\n",
    "\n",
    "with your name replacing yourname and  replaced with the date you submit or to the last part.\n",
    "\n",
    "Do the homeworks problems below.\n",
    "\n",
    "Upload your completed jupyter notebook to your github site and send me the url via the elearning site as your homework submission. Please note that you need to do your own 3.4, and 3.5 if you share data and analysis from others then you cannot get more than a 3.  "
   ]
  },
  {
   "cell_type": "markdown",
   "metadata": {},
   "source": [
    "## Homework 3.1\n",
    "\n",
    "### 3.1.a\n",
    "Load the data from: http://opendata.dc.gov/datasets that I have include in this github   \n",
    "into a dataframe.  ( The file has been is available in directory ./data/ccp_current_csv.csv )"
   ]
  },
  {
   "cell_type": "code",
   "execution_count": 2,
   "metadata": {},
   "outputs": [
    {
     "data": {
      "text/html": [
       "<div>\n",
       "<style>\n",
       "    .dataframe thead tr:only-child th {\n",
       "        text-align: right;\n",
       "    }\n",
       "\n",
       "    .dataframe thead th {\n",
       "        text-align: left;\n",
       "    }\n",
       "\n",
       "    .dataframe tbody tr th {\n",
       "        vertical-align: top;\n",
       "    }\n",
       "</style>\n",
       "<table border=\"1\" class=\"dataframe\">\n",
       "  <thead>\n",
       "    <tr style=\"text-align: right;\">\n",
       "      <th></th>\n",
       "      <th>STREET</th>\n",
       "      <th>QUADRANT</th>\n",
       "      <th>FROMINTERSECTION</th>\n",
       "      <th>TOINTERSECTION</th>\n",
       "      <th>NOOFBLOCKS</th>\n",
       "      <th>WORKDESCRIPTION</th>\n",
       "      <th>YEARBUDGETED</th>\n",
       "      <th>PERCENTCOMPLETED</th>\n",
       "      <th>STATUS</th>\n",
       "      <th>MILES</th>\n",
       "      <th>...</th>\n",
       "      <th>YCOORD</th>\n",
       "      <th>LATITUDE</th>\n",
       "      <th>LONGITUDE</th>\n",
       "      <th>PROJECTNOTE</th>\n",
       "      <th>PROJECTNAME</th>\n",
       "      <th>PROJECTMGR</th>\n",
       "      <th>PROJECTID</th>\n",
       "      <th>TEAMREP</th>\n",
       "      <th>EMAIL</th>\n",
       "      <th>CONTACTPHONE</th>\n",
       "    </tr>\n",
       "  </thead>\n",
       "  <tbody>\n",
       "    <tr>\n",
       "      <th>0</th>\n",
       "      <td>13th St</td>\n",
       "      <td>NW</td>\n",
       "      <td>Kennedy St</td>\n",
       "      <td>Longfellow St</td>\n",
       "      <td>1</td>\n",
       "      <td>Pavement Resurface/restoration</td>\n",
       "      <td>2004</td>\n",
       "      <td>100</td>\n",
       "      <td>Completed</td>\n",
       "      <td>0.07</td>\n",
       "      <td>...</td>\n",
       "      <td>143205.11981</td>\n",
       "      <td>38.956747</td>\n",
       "      <td>-77.029694</td>\n",
       "      <td>NaN</td>\n",
       "      <td>FedAid</td>\n",
       "      <td>Paul Stephenson</td>\n",
       "      <td>5834</td>\n",
       "      <td>O. Hill</td>\n",
       "      <td>NaN</td>\n",
       "      <td>202-671-4591</td>\n",
       "    </tr>\n",
       "    <tr>\n",
       "      <th>1</th>\n",
       "      <td>S St</td>\n",
       "      <td>NW</td>\n",
       "      <td>North Capitol St</td>\n",
       "      <td>3rd St</td>\n",
       "      <td>3</td>\n",
       "      <td>Regular Cover</td>\n",
       "      <td>1999</td>\n",
       "      <td>100</td>\n",
       "      <td>Completed</td>\n",
       "      <td>0.33</td>\n",
       "      <td>...</td>\n",
       "      <td>138468.90256</td>\n",
       "      <td>38.914085</td>\n",
       "      <td>-77.012411</td>\n",
       "      <td>NaN</td>\n",
       "      <td>NaN</td>\n",
       "      <td>NaN</td>\n",
       "      <td>2467</td>\n",
       "      <td>NaN</td>\n",
       "      <td>NaN</td>\n",
       "      <td>NaN</td>\n",
       "    </tr>\n",
       "    <tr>\n",
       "      <th>2</th>\n",
       "      <td>Rhode Island Ave</td>\n",
       "      <td>NE</td>\n",
       "      <td>Brentwood Rd (W)</td>\n",
       "      <td>Brentwood Rd (M)</td>\n",
       "      <td>1</td>\n",
       "      <td>Pavement Resurface/restoration</td>\n",
       "      <td>2004</td>\n",
       "      <td>100</td>\n",
       "      <td>Completed</td>\n",
       "      <td>0.09</td>\n",
       "      <td>...</td>\n",
       "      <td>139574.10659</td>\n",
       "      <td>38.924041</td>\n",
       "      <td>-76.987221</td>\n",
       "      <td>NaN</td>\n",
       "      <td>Fedral Aid Citywide Pavement Restoration</td>\n",
       "      <td>Mohamed Abdullahi</td>\n",
       "      <td>5486</td>\n",
       "      <td>Said Cherifi</td>\n",
       "      <td>said.cherifi@dc.gov</td>\n",
       "      <td>202-671-4611</td>\n",
       "    </tr>\n",
       "    <tr>\n",
       "      <th>3</th>\n",
       "      <td>Mill Rd</td>\n",
       "      <td>NW</td>\n",
       "      <td>27th St</td>\n",
       "      <td>Cul De Sac</td>\n",
       "      <td>1</td>\n",
       "      <td>Pavement Resurface/restoration</td>\n",
       "      <td>2004</td>\n",
       "      <td>100</td>\n",
       "      <td>Completed</td>\n",
       "      <td>0.07</td>\n",
       "      <td>...</td>\n",
       "      <td>138132.90198</td>\n",
       "      <td>38.911046</td>\n",
       "      <td>-77.054077</td>\n",
       "      <td>POKA-2003-B-0048-JJ</td>\n",
       "      <td>Citywide Pavement Restoration Contract (Local ...</td>\n",
       "      <td>Maduabuchi Udeh</td>\n",
       "      <td>5796</td>\n",
       "      <td>Michael Jelen</td>\n",
       "      <td>Michael.Jelen@dc.gov</td>\n",
       "      <td>202-671-4542</td>\n",
       "    </tr>\n",
       "    <tr>\n",
       "      <th>4</th>\n",
       "      <td>Rhode Island Ave</td>\n",
       "      <td>NE</td>\n",
       "      <td>Brentwood Rd (M)</td>\n",
       "      <td>14th St  Evarts St  Montan</td>\n",
       "      <td>2</td>\n",
       "      <td>Pavement Resurface/restoration</td>\n",
       "      <td>2005</td>\n",
       "      <td>100</td>\n",
       "      <td>Completed</td>\n",
       "      <td>0.16</td>\n",
       "      <td>...</td>\n",
       "      <td>139657.25318</td>\n",
       "      <td>38.924790</td>\n",
       "      <td>-76.985068</td>\n",
       "      <td>NaN</td>\n",
       "      <td>NaN</td>\n",
       "      <td>NaN</td>\n",
       "      <td>8237</td>\n",
       "      <td>NaN</td>\n",
       "      <td>NaN</td>\n",
       "      <td>NaN</td>\n",
       "    </tr>\n",
       "  </tbody>\n",
       "</table>\n",
       "<p>5 rows × 27 columns</p>\n",
       "</div>"
      ],
      "text/plain": [
       "             STREET QUADRANT  FROMINTERSECTION              TOINTERSECTION  \\\n",
       "0           13th St       NW        Kennedy St               Longfellow St   \n",
       "1              S St       NW  North Capitol St                      3rd St   \n",
       "2  Rhode Island Ave       NE  Brentwood Rd (W)            Brentwood Rd (M)   \n",
       "3           Mill Rd       NW           27th St                  Cul De Sac   \n",
       "4  Rhode Island Ave       NE  Brentwood Rd (M)  14th St  Evarts St  Montan   \n",
       "\n",
       "   NOOFBLOCKS                 WORKDESCRIPTION  YEARBUDGETED  PERCENTCOMPLETED  \\\n",
       "0           1  Pavement Resurface/restoration          2004               100   \n",
       "1           3                   Regular Cover          1999               100   \n",
       "2           1  Pavement Resurface/restoration          2004               100   \n",
       "3           1  Pavement Resurface/restoration          2004               100   \n",
       "4           2  Pavement Resurface/restoration          2005               100   \n",
       "\n",
       "      STATUS  MILES      ...             YCOORD   LATITUDE  LONGITUDE  \\\n",
       "0  Completed   0.07      ...       143205.11981  38.956747 -77.029694   \n",
       "1  Completed   0.33      ...       138468.90256  38.914085 -77.012411   \n",
       "2  Completed   0.09      ...       139574.10659  38.924041 -76.987221   \n",
       "3  Completed   0.07      ...       138132.90198  38.911046 -77.054077   \n",
       "4  Completed   0.16      ...       139657.25318  38.924790 -76.985068   \n",
       "\n",
       "           PROJECTNOTE                                        PROJECTNAME  \\\n",
       "0                  NaN                                             FedAid   \n",
       "1                  NaN                                                NaN   \n",
       "2                  NaN           Fedral Aid Citywide Pavement Restoration   \n",
       "3  POKA-2003-B-0048-JJ  Citywide Pavement Restoration Contract (Local ...   \n",
       "4                  NaN                                                NaN   \n",
       "\n",
       "          PROJECTMGR  PROJECTID        TEAMREP                 EMAIL  \\\n",
       "0    Paul Stephenson       5834        O. Hill                   NaN   \n",
       "1                NaN       2467            NaN                   NaN   \n",
       "2  Mohamed Abdullahi       5486   Said Cherifi   said.cherifi@dc.gov   \n",
       "3    Maduabuchi Udeh       5796  Michael Jelen  Michael.Jelen@dc.gov   \n",
       "4                NaN       8237            NaN                   NaN   \n",
       "\n",
       "   CONTACTPHONE  \n",
       "0  202-671-4591  \n",
       "1           NaN  \n",
       "2  202-671-4611  \n",
       "3  202-671-4542  \n",
       "4           NaN  \n",
       "\n",
       "[5 rows x 27 columns]"
      ]
     },
     "execution_count": 2,
     "metadata": {},
     "output_type": "execute_result"
    }
   ],
   "source": [
    "import pandas as pd\n",
    "\n",
    "df = pd.read_csv(\"ccp_current_csv.csv\")\n",
    "\n",
    "df.head()"
   ]
  },
  {
   "cell_type": "markdown",
   "metadata": {},
   "source": [
    "### 3.1.a  what is its shape and what does that mean?"
   ]
  },
  {
   "cell_type": "code",
   "execution_count": 6,
   "metadata": {},
   "outputs": [
    {
     "data": {
      "text/plain": [
       "(465, 27)"
      ]
     },
     "execution_count": 6,
     "metadata": {},
     "output_type": "execute_result"
    }
   ],
   "source": [
    "##The shape of a dataset is a record consisting of the number of observations and the number of attributes in the dataset.\n",
    "\n",
    "df.shape"
   ]
  },
  {
   "cell_type": "markdown",
   "metadata": {},
   "source": [
    "## Homework 3.2\n",
    " What are the number of rows in each 'QUADRANT' ?"
   ]
  },
  {
   "cell_type": "code",
   "execution_count": 10,
   "metadata": {},
   "outputs": [
    {
     "data": {
      "text/html": [
       "<div>\n",
       "<style>\n",
       "    .dataframe thead tr:only-child th {\n",
       "        text-align: right;\n",
       "    }\n",
       "\n",
       "    .dataframe thead th {\n",
       "        text-align: left;\n",
       "    }\n",
       "\n",
       "    .dataframe tbody tr th {\n",
       "        vertical-align: top;\n",
       "    }\n",
       "</style>\n",
       "<table border=\"1\" class=\"dataframe\">\n",
       "  <thead>\n",
       "    <tr style=\"text-align: right;\">\n",
       "      <th></th>\n",
       "      <th>STREET</th>\n",
       "      <th>FROMINTERSECTION</th>\n",
       "      <th>TOINTERSECTION</th>\n",
       "      <th>NOOFBLOCKS</th>\n",
       "      <th>WORKDESCRIPTION</th>\n",
       "      <th>YEARBUDGETED</th>\n",
       "      <th>PERCENTCOMPLETED</th>\n",
       "      <th>STATUS</th>\n",
       "      <th>MILES</th>\n",
       "      <th>WARD</th>\n",
       "      <th>...</th>\n",
       "      <th>YCOORD</th>\n",
       "      <th>LATITUDE</th>\n",
       "      <th>LONGITUDE</th>\n",
       "      <th>PROJECTNOTE</th>\n",
       "      <th>PROJECTNAME</th>\n",
       "      <th>PROJECTMGR</th>\n",
       "      <th>PROJECTID</th>\n",
       "      <th>TEAMREP</th>\n",
       "      <th>EMAIL</th>\n",
       "      <th>CONTACTPHONE</th>\n",
       "    </tr>\n",
       "    <tr>\n",
       "      <th>QUADRANT</th>\n",
       "      <th></th>\n",
       "      <th></th>\n",
       "      <th></th>\n",
       "      <th></th>\n",
       "      <th></th>\n",
       "      <th></th>\n",
       "      <th></th>\n",
       "      <th></th>\n",
       "      <th></th>\n",
       "      <th></th>\n",
       "      <th></th>\n",
       "      <th></th>\n",
       "      <th></th>\n",
       "      <th></th>\n",
       "      <th></th>\n",
       "      <th></th>\n",
       "      <th></th>\n",
       "      <th></th>\n",
       "      <th></th>\n",
       "      <th></th>\n",
       "      <th></th>\n",
       "    </tr>\n",
       "  </thead>\n",
       "  <tbody>\n",
       "    <tr>\n",
       "      <th>BN</th>\n",
       "      <td>12</td>\n",
       "      <td>12</td>\n",
       "      <td>12</td>\n",
       "      <td>12</td>\n",
       "      <td>12</td>\n",
       "      <td>12</td>\n",
       "      <td>12</td>\n",
       "      <td>12</td>\n",
       "      <td>12</td>\n",
       "      <td>12</td>\n",
       "      <td>...</td>\n",
       "      <td>12</td>\n",
       "      <td>12</td>\n",
       "      <td>12</td>\n",
       "      <td>4</td>\n",
       "      <td>8</td>\n",
       "      <td>8</td>\n",
       "      <td>12</td>\n",
       "      <td>8</td>\n",
       "      <td>8</td>\n",
       "      <td>8</td>\n",
       "    </tr>\n",
       "    <tr>\n",
       "      <th>NE</th>\n",
       "      <td>163</td>\n",
       "      <td>163</td>\n",
       "      <td>163</td>\n",
       "      <td>163</td>\n",
       "      <td>163</td>\n",
       "      <td>163</td>\n",
       "      <td>163</td>\n",
       "      <td>163</td>\n",
       "      <td>163</td>\n",
       "      <td>163</td>\n",
       "      <td>...</td>\n",
       "      <td>163</td>\n",
       "      <td>163</td>\n",
       "      <td>163</td>\n",
       "      <td>8</td>\n",
       "      <td>65</td>\n",
       "      <td>49</td>\n",
       "      <td>163</td>\n",
       "      <td>42</td>\n",
       "      <td>34</td>\n",
       "      <td>43</td>\n",
       "    </tr>\n",
       "    <tr>\n",
       "      <th>NW</th>\n",
       "      <td>195</td>\n",
       "      <td>195</td>\n",
       "      <td>195</td>\n",
       "      <td>195</td>\n",
       "      <td>195</td>\n",
       "      <td>195</td>\n",
       "      <td>195</td>\n",
       "      <td>195</td>\n",
       "      <td>195</td>\n",
       "      <td>193</td>\n",
       "      <td>...</td>\n",
       "      <td>195</td>\n",
       "      <td>195</td>\n",
       "      <td>195</td>\n",
       "      <td>77</td>\n",
       "      <td>147</td>\n",
       "      <td>141</td>\n",
       "      <td>195</td>\n",
       "      <td>135</td>\n",
       "      <td>79</td>\n",
       "      <td>132</td>\n",
       "    </tr>\n",
       "    <tr>\n",
       "      <th>SE</th>\n",
       "      <td>84</td>\n",
       "      <td>84</td>\n",
       "      <td>84</td>\n",
       "      <td>84</td>\n",
       "      <td>84</td>\n",
       "      <td>84</td>\n",
       "      <td>84</td>\n",
       "      <td>84</td>\n",
       "      <td>84</td>\n",
       "      <td>84</td>\n",
       "      <td>...</td>\n",
       "      <td>84</td>\n",
       "      <td>84</td>\n",
       "      <td>84</td>\n",
       "      <td>8</td>\n",
       "      <td>40</td>\n",
       "      <td>30</td>\n",
       "      <td>84</td>\n",
       "      <td>21</td>\n",
       "      <td>3</td>\n",
       "      <td>22</td>\n",
       "    </tr>\n",
       "    <tr>\n",
       "      <th>SW</th>\n",
       "      <td>11</td>\n",
       "      <td>11</td>\n",
       "      <td>11</td>\n",
       "      <td>11</td>\n",
       "      <td>11</td>\n",
       "      <td>11</td>\n",
       "      <td>11</td>\n",
       "      <td>11</td>\n",
       "      <td>11</td>\n",
       "      <td>11</td>\n",
       "      <td>...</td>\n",
       "      <td>11</td>\n",
       "      <td>11</td>\n",
       "      <td>11</td>\n",
       "      <td>2</td>\n",
       "      <td>5</td>\n",
       "      <td>6</td>\n",
       "      <td>11</td>\n",
       "      <td>5</td>\n",
       "      <td>4</td>\n",
       "      <td>4</td>\n",
       "    </tr>\n",
       "  </tbody>\n",
       "</table>\n",
       "<p>5 rows × 26 columns</p>\n",
       "</div>"
      ],
      "text/plain": [
       "          STREET  FROMINTERSECTION  TOINTERSECTION  NOOFBLOCKS  \\\n",
       "QUADRANT                                                         \n",
       "BN            12                12              12          12   \n",
       "NE           163               163             163         163   \n",
       "NW           195               195             195         195   \n",
       "SE            84                84              84          84   \n",
       "SW            11                11              11          11   \n",
       "\n",
       "          WORKDESCRIPTION  YEARBUDGETED  PERCENTCOMPLETED  STATUS  MILES  \\\n",
       "QUADRANT                                                                   \n",
       "BN                     12            12                12      12     12   \n",
       "NE                    163           163               163     163    163   \n",
       "NW                    195           195               195     195    195   \n",
       "SE                     84            84                84      84     84   \n",
       "SW                     11            11                11      11     11   \n",
       "\n",
       "          WARD      ...       YCOORD  LATITUDE  LONGITUDE  PROJECTNOTE  \\\n",
       "QUADRANT            ...                                                  \n",
       "BN          12      ...           12        12         12            4   \n",
       "NE         163      ...          163       163        163            8   \n",
       "NW         193      ...          195       195        195           77   \n",
       "SE          84      ...           84        84         84            8   \n",
       "SW          11      ...           11        11         11            2   \n",
       "\n",
       "          PROJECTNAME  PROJECTMGR  PROJECTID  TEAMREP  EMAIL  CONTACTPHONE  \n",
       "QUADRANT                                                                    \n",
       "BN                  8           8         12        8      8             8  \n",
       "NE                 65          49        163       42     34            43  \n",
       "NW                147         141        195      135     79           132  \n",
       "SE                 40          30         84       21      3            22  \n",
       "SW                  5           6         11        5      4             4  \n",
       "\n",
       "[5 rows x 26 columns]"
      ]
     },
     "execution_count": 10,
     "metadata": {},
     "output_type": "execute_result"
    }
   ],
   "source": [
    "df.groupby(['QUADRANT']).count()"
   ]
  },
  {
   "cell_type": "markdown",
   "metadata": {},
   "source": [
    "BN: 12\n",
    "NE: 163\n",
    "NW: 195\n",
    "SE: 84\n",
    "SW: 11"
   ]
  },
  {
   "cell_type": "markdown",
   "metadata": {},
   "source": [
    "## Homework 3.3 - Array math demonstration \n",
    "For two arrarys  \n",
    "\n",
    "a= [1,2,3,4]  type=float\n",
    "\n",
    "b= [5,6,7,8]  type=float\n",
    "\n",
    "Peform the following array operations using numpy   \n",
    "( show both operational use of numpy and functional (example addition operation => + vs addition function => numbpy.add() )\n",
    "\n",
    "### 3.3.1 addition a+b "
   ]
  },
  {
   "cell_type": "code",
   "execution_count": 26,
   "metadata": {},
   "outputs": [
    {
     "name": "stdout",
     "output_type": "stream",
     "text": [
      "[  6.   8.  10.  12.]\n",
      "[  6.   8.  10.  12.]\n"
     ]
    }
   ],
   "source": [
    "import numpy as np\n",
    "\n",
    "a = np.array([1.0,2.0,3.0,4.0])\n",
    "b = np.array([5.0,6.0,7.0,8.0])\n",
    "\n",
    "print(a + b)\n",
    "print(np.add(a,b))\n",
    "\n",
    "\n"
   ]
  },
  {
   "cell_type": "markdown",
   "metadata": {},
   "source": [
    "### 3.3.2 subtraction a-b"
   ]
  },
  {
   "cell_type": "code",
   "execution_count": 27,
   "metadata": {},
   "outputs": [
    {
     "name": "stdout",
     "output_type": "stream",
     "text": [
      "[-4. -4. -4. -4.]\n",
      "[-4. -4. -4. -4.]\n"
     ]
    }
   ],
   "source": [
    "print(a-b)\n",
    "print(np.subtract(a,b))"
   ]
  },
  {
   "cell_type": "markdown",
   "metadata": {},
   "source": [
    "### 3.3.3 multiplication a*b"
   ]
  },
  {
   "cell_type": "code",
   "execution_count": 28,
   "metadata": {},
   "outputs": [
    {
     "name": "stdout",
     "output_type": "stream",
     "text": [
      "[  5.  12.  21.  32.]\n",
      "[  5.  12.  21.  32.]\n"
     ]
    }
   ],
   "source": [
    "print(a*b)\n",
    "print(np.multiply(a,b))"
   ]
  },
  {
   "cell_type": "markdown",
   "metadata": {},
   "source": [
    "### 3.3.4 divsion a/b"
   ]
  },
  {
   "cell_type": "code",
   "execution_count": 29,
   "metadata": {},
   "outputs": [
    {
     "name": "stdout",
     "output_type": "stream",
     "text": [
      "[ 0.2         0.33333333  0.42857143  0.5       ]\n",
      "[ 0.2         0.33333333  0.42857143  0.5       ]\n"
     ]
    }
   ],
   "source": [
    "print(a/b)\n",
    "print(np.divide(a, b))"
   ]
  },
  {
   "cell_type": "markdown",
   "metadata": {},
   "source": [
    "### 3.3.5 modulo  a%b"
   ]
  },
  {
   "cell_type": "code",
   "execution_count": 30,
   "metadata": {},
   "outputs": [
    {
     "name": "stdout",
     "output_type": "stream",
     "text": [
      "[ 1.  2.  3.  4.]\n",
      "[ 1.  2.  3.  4.]\n"
     ]
    }
   ],
   "source": [
    "print(a%b)\n",
    "print(np.mod(a,b))"
   ]
  },
  {
   "cell_type": "markdown",
   "metadata": {},
   "source": [
    "### 3.3.6 power  a^b"
   ]
  },
  {
   "cell_type": "code",
   "execution_count": 31,
   "metadata": {},
   "outputs": [
    {
     "name": "stdout",
     "output_type": "stream",
     "text": [
      "[  1.00000000e+00   6.40000000e+01   2.18700000e+03   6.55360000e+04]\n",
      "[  1.00000000e+00   6.40000000e+01   2.18700000e+03   6.55360000e+04]\n"
     ]
    }
   ],
   "source": [
    "print(a**b)\n",
    "print(np.power(a,b))"
   ]
  },
  {
   "cell_type": "markdown",
   "metadata": {},
   "source": [
    "## Homework 3.4\n",
    "Find your own data and load it into a dataframe"
   ]
  },
  {
   "cell_type": "code",
   "execution_count": 70,
   "metadata": {},
   "outputs": [
    {
     "data": {
      "text/html": [
       "<div>\n",
       "<style>\n",
       "    .dataframe thead tr:only-child th {\n",
       "        text-align: right;\n",
       "    }\n",
       "\n",
       "    .dataframe thead th {\n",
       "        text-align: left;\n",
       "    }\n",
       "\n",
       "    .dataframe tbody tr th {\n",
       "        vertical-align: top;\n",
       "    }\n",
       "</style>\n",
       "<table border=\"1\" class=\"dataframe\">\n",
       "  <thead>\n",
       "    <tr style=\"text-align: right;\">\n",
       "      <th></th>\n",
       "      <th>School Name</th>\n",
       "      <th>School Type</th>\n",
       "      <th>Starting Median Salary</th>\n",
       "      <th>Mid-Career Median Salary</th>\n",
       "      <th>Mid-Career 10th Percentile Salary</th>\n",
       "      <th>Mid-Career 25th Percentile Salary</th>\n",
       "      <th>Mid-Career 75th Percentile Salary</th>\n",
       "      <th>Mid-Career 90th Percentile Salary</th>\n",
       "    </tr>\n",
       "  </thead>\n",
       "  <tbody>\n",
       "    <tr>\n",
       "      <th>0</th>\n",
       "      <td>Massachusetts Institute of Technology (MIT)</td>\n",
       "      <td>Engineering</td>\n",
       "      <td>72200.0</td>\n",
       "      <td>126000.0</td>\n",
       "      <td>76800.00</td>\n",
       "      <td>99200.00</td>\n",
       "      <td>168000.00</td>\n",
       "      <td>220000.0</td>\n",
       "    </tr>\n",
       "    <tr>\n",
       "      <th>1</th>\n",
       "      <td>California Institute of Technology (CIT)</td>\n",
       "      <td>Engineering</td>\n",
       "      <td>75500.0</td>\n",
       "      <td>123000.0</td>\n",
       "      <td>NaN</td>\n",
       "      <td>104000.00</td>\n",
       "      <td>161000.00</td>\n",
       "      <td>NaN</td>\n",
       "    </tr>\n",
       "    <tr>\n",
       "      <th>2</th>\n",
       "      <td>Harvey Mudd College</td>\n",
       "      <td>Engineering</td>\n",
       "      <td>71800.0</td>\n",
       "      <td>122000.0</td>\n",
       "      <td>NaN</td>\n",
       "      <td>96000.00</td>\n",
       "      <td>180000.00</td>\n",
       "      <td>NaN</td>\n",
       "    </tr>\n",
       "    <tr>\n",
       "      <th>3</th>\n",
       "      <td>Polytechnic University of New York Brooklyn</td>\n",
       "      <td>Engineering</td>\n",
       "      <td>62400.0</td>\n",
       "      <td>114000.0</td>\n",
       "      <td>66800.00</td>\n",
       "      <td>94300.00</td>\n",
       "      <td>143000.00</td>\n",
       "      <td>190000.0</td>\n",
       "    </tr>\n",
       "    <tr>\n",
       "      <th>4</th>\n",
       "      <td>Cooper Union</td>\n",
       "      <td>Engineering</td>\n",
       "      <td>62200.0</td>\n",
       "      <td>114000.0</td>\n",
       "      <td>NaN</td>\n",
       "      <td>80200.00</td>\n",
       "      <td>142000.00</td>\n",
       "      <td>NaN</td>\n",
       "    </tr>\n",
       "  </tbody>\n",
       "</table>\n",
       "</div>"
      ],
      "text/plain": [
       "                                   School Name  School Type  \\\n",
       "0  Massachusetts Institute of Technology (MIT)  Engineering   \n",
       "1     California Institute of Technology (CIT)  Engineering   \n",
       "2                          Harvey Mudd College  Engineering   \n",
       "3  Polytechnic University of New York Brooklyn  Engineering   \n",
       "4                                 Cooper Union  Engineering   \n",
       "\n",
       "   Starting Median Salary  Mid-Career Median Salary  \\\n",
       "0                 72200.0                  126000.0   \n",
       "1                 75500.0                  123000.0   \n",
       "2                 71800.0                  122000.0   \n",
       "3                 62400.0                  114000.0   \n",
       "4                 62200.0                  114000.0   \n",
       "\n",
       "  Mid-Career 10th Percentile Salary Mid-Career 25th Percentile Salary  \\\n",
       "0                          76800.00                          99200.00   \n",
       "1                               NaN                         104000.00   \n",
       "2                               NaN                          96000.00   \n",
       "3                          66800.00                          94300.00   \n",
       "4                               NaN                          80200.00   \n",
       "\n",
       "  Mid-Career 75th Percentile Salary  Mid-Career 90th Percentile Salary  \n",
       "0                         168000.00                           220000.0  \n",
       "1                         161000.00                                NaN  \n",
       "2                         180000.00                                NaN  \n",
       "3                         143000.00                           190000.0  \n",
       "4                         142000.00                                NaN  "
      ]
     },
     "execution_count": 70,
     "metadata": {},
     "output_type": "execute_result"
    }
   ],
   "source": [
    "## Here is a data table that has the median starting salaries and mid career salaries of the graduates of\n",
    "## 270 universities in the USA. The dataset also contains mid-career 10th, 25th, 75th and 90th career salaries \n",
    "##The universities are categorized into the following groups: Engineering, Party, \n",
    "## Ivey League, and State\n",
    "\n",
    "df = pd.read_csv(\"salaries-by-college-type.csv\")\n",
    "df= df.replace({'\\$':''}, regex = True)\n",
    "df= df.replace({'\\,':''}, regex = True)\n",
    "df[\"Starting Median Salary\"]= df[\"Starting Median Salary\"].astype('float64', ignore = False)\n",
    "df[\"Mid-Career Median Salary\"]= df[\"Mid-Career Median Salary\"].astype('float64', ignore = False)\n",
    "df[\"Mid-Career 90th Percentile Salary\"] = df[\"Mid-Career 90th Percentile Salary\"].astype('float64', ignore = False)\n",
    "\n",
    "\n",
    "df.head()"
   ]
  },
  {
   "cell_type": "markdown",
   "metadata": {},
   "source": [
    "## Homework 3.5\n",
    "Provide an interesting analysis of the data columns ( frequency or averages )"
   ]
  },
  {
   "cell_type": "code",
   "execution_count": 93,
   "metadata": {},
   "outputs": [
    {
     "data": {
      "text/plain": [
       "Starting Median Salary                46068.401487\n",
       "Mid-Career Median Salary              83932.342007\n",
       "Mid-Career 90th Percentile Salary    157705.627706\n",
       "dtype: float64"
      ]
     },
     "execution_count": 93,
     "metadata": {},
     "output_type": "execute_result"
    }
   ],
   "source": [
    "## Here are the the average median starting salraries, average median mid-career salaries, \n",
    "## and average 90th percentile mid-career salaries across all the universities\n",
    "\n",
    "df.mean()"
   ]
  },
  {
   "cell_type": "code",
   "execution_count": 94,
   "metadata": {},
   "outputs": [
    {
     "name": "stdout",
     "output_type": "stream",
     "text": [
      "University with greatest median starting salary:  California Institute of Technology (CIT)   75500.0\n",
      "University with lowest median starting salary:  Morehead State University   34800.0\n"
     ]
    }
   ],
   "source": [
    "##Which universities had the greatest and lowest median starting salaries:\n",
    "print(\"University with greatest median starting salary: \", df.loc[df['Starting Median Salary'].idxmax()][0],\n",
    "       \" \", df[\"Starting Median Salary\"].max())\n",
    "print(\"University with lowest median starting salary: \", df.loc[df['Starting Median Salary'].idxmin()][0],\n",
    "       \" \", df[\"Starting Median Salary\"].min())"
   ]
  },
  {
   "cell_type": "code",
   "execution_count": 95,
   "metadata": {},
   "outputs": [
    {
     "name": "stdout",
     "output_type": "stream",
     "text": [
      "University with greatest median mid-career salary:  Dartmouth College   134000.0\n",
      "University with lowest median mid-career salary:  Black Hills State University   43900.0\n"
     ]
    }
   ],
   "source": [
    "##Which universities had the greatest and lowest median mid-career salaries:\n",
    "print(\"University with greatest median mid-career salary: \", df.loc[df['Mid-Career Median Salary'].idxmax()][0],\n",
    "       \" \", df[\"Mid-Career Median Salary\"].max())\n",
    "print(\"University with lowest median mid-career salary: \", df.loc[df['Mid-Career Median Salary'].idxmin()][0],\n",
    "       \" \", df[\"Mid-Career Median Salary\"].min())"
   ]
  },
  {
   "cell_type": "code",
   "execution_count": 100,
   "metadata": {},
   "outputs": [
    {
     "name": "stdout",
     "output_type": "stream",
     "text": [
      "77.48344370860927\n",
      "26.14942528735633\n"
     ]
    }
   ],
   "source": [
    "print((134000/75500 - 1)*100)\n",
    "print((43900/34800 - 1)*100)\n",
    "\n",
    "##It's intersting that the greatest mid-career median salary is %77 higher than the greatest starting median salary,\n",
    "##But the lowest mid-career median salary is only %26 higher than the lowest starting median salary"
   ]
  },
  {
   "cell_type": "code",
   "execution_count": 98,
   "metadata": {},
   "outputs": [
    {
     "data": {
      "text/html": [
       "<div>\n",
       "<style>\n",
       "    .dataframe thead tr:only-child th {\n",
       "        text-align: right;\n",
       "    }\n",
       "\n",
       "    .dataframe thead th {\n",
       "        text-align: left;\n",
       "    }\n",
       "\n",
       "    .dataframe tbody tr th {\n",
       "        vertical-align: top;\n",
       "    }\n",
       "</style>\n",
       "<table border=\"1\" class=\"dataframe\">\n",
       "  <thead>\n",
       "    <tr style=\"text-align: right;\">\n",
       "      <th></th>\n",
       "      <th>Starting Median Salary</th>\n",
       "      <th>Mid-Career Median Salary</th>\n",
       "      <th>Mid-Career 90th Percentile Salary</th>\n",
       "    </tr>\n",
       "    <tr>\n",
       "      <th>School Type</th>\n",
       "      <th></th>\n",
       "      <th></th>\n",
       "      <th></th>\n",
       "    </tr>\n",
       "  </thead>\n",
       "  <tbody>\n",
       "    <tr>\n",
       "      <th>Engineering</th>\n",
       "      <td>59057.894737</td>\n",
       "      <td>103842.105263</td>\n",
       "      <td>173333.333333</td>\n",
       "    </tr>\n",
       "    <tr>\n",
       "      <th>Ivy League</th>\n",
       "      <td>60475.000000</td>\n",
       "      <td>120125.000000</td>\n",
       "      <td>269625.000000</td>\n",
       "    </tr>\n",
       "    <tr>\n",
       "      <th>Liberal Arts</th>\n",
       "      <td>45746.808511</td>\n",
       "      <td>89378.723404</td>\n",
       "      <td>191142.857143</td>\n",
       "    </tr>\n",
       "    <tr>\n",
       "      <th>Party</th>\n",
       "      <td>45715.000000</td>\n",
       "      <td>84685.000000</td>\n",
       "      <td>166947.368421</td>\n",
       "    </tr>\n",
       "    <tr>\n",
       "      <th>State</th>\n",
       "      <td>44126.285714</td>\n",
       "      <td>78567.428571</td>\n",
       "      <td>147571.428571</td>\n",
       "    </tr>\n",
       "  </tbody>\n",
       "</table>\n",
       "</div>"
      ],
      "text/plain": [
       "              Starting Median Salary  Mid-Career Median Salary  \\\n",
       "School Type                                                      \n",
       "Engineering             59057.894737             103842.105263   \n",
       "Ivy League              60475.000000             120125.000000   \n",
       "Liberal Arts            45746.808511              89378.723404   \n",
       "Party                   45715.000000              84685.000000   \n",
       "State                   44126.285714              78567.428571   \n",
       "\n",
       "              Mid-Career 90th Percentile Salary  \n",
       "School Type                                      \n",
       "Engineering                       173333.333333  \n",
       "Ivy League                        269625.000000  \n",
       "Liberal Arts                      191142.857143  \n",
       "Party                             166947.368421  \n",
       "State                             147571.428571  "
      ]
     },
     "execution_count": 98,
     "metadata": {},
     "output_type": "execute_result"
    }
   ],
   "source": [
    "##We can also compare how the universities differ by type:\n",
    "##Interesting that hte Mid-Career 90th Percentile salary for Liberal Arts colleges is higher than it is for Engineering colleges\n",
    "##But the Engineering colleges have a higher Mid-Career median salary.\n",
    "\n",
    "df.groupby(['School Type']).mean()"
   ]
  },
  {
   "cell_type": "code",
   "execution_count": null,
   "metadata": {
    "collapsed": true
   },
   "outputs": [],
   "source": []
  }
 ],
 "metadata": {
  "kernelspec": {
   "display_name": "Python 3",
   "language": "python",
   "name": "python3"
  },
  "language_info": {
   "codemirror_mode": {
    "name": "ipython",
    "version": 3
   },
   "file_extension": ".py",
   "mimetype": "text/x-python",
   "name": "python",
   "nbconvert_exporter": "python",
   "pygments_lexer": "ipython3",
   "version": "3.6.1"
  }
 },
 "nbformat": 4,
 "nbformat_minor": 1
}
