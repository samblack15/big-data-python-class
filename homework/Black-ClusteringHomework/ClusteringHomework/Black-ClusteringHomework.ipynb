{
 "cells": [
  {
   "cell_type": "markdown",
   "metadata": {},
   "source": [
    "## K-Means Example\n",
    "\n",
    "The k-Means algorithm is a clustering algorithm that assigns data points from a dataset into a specified number of groupings. To use the algorithm, one must determine the number of groups that the datapoints will be assigned to, which we will refer to as k. Then, k points are randomly chosen in the vector space that the dataset resides in. These k points are called centroids. Next, for each data point, the Euclidean distance is calculated from the point to each one of the centroids. After each of these k distances are calculated for a particular data point, the point is assigned to the centroid that it is closest to. This creates k groupings of points.\n",
    "\n",
    "Once this process is completed, the mean point of each these k groupings is calculated, generating k new points. These new points become the new centroids for the next iteration of the algorithm, when each of the data points are then assigned to the closest of the k new centroids. If the groupings remain unchanged as they were in the previous iteration, then the algorithm has reached convergence and is completed. Otherwise the process repeats until convergence is reached, or the number of iterations has reached some specified number set as the maxinum number of iterations that the algorithm will run through. The algorithm's output is the groupings that are created in the final iteration."
   ]
  },
  {
   "cell_type": "markdown",
   "metadata": {},
   "source": [
    "This tutorial will take you through an example of implementing the algorithm on a dataset using the Sci-Kit Learn Python libray. The first step will be to import the library, along with numpy."
   ]
  },
  {
   "cell_type": "code",
   "execution_count": 1,
   "metadata": {},
   "outputs": [],
   "source": [
    "%matplotlib inline\n",
    "\n",
    "from sklearn.cluster import KMeans\n",
    "import numpy as np\n",
    "import pandas as pd\n",
    "import matplotlib.pyplot as plt"
   ]
  },
  {
   "cell_type": "markdown",
   "metadata": {},
   "source": [
    "Next, we'll load the dataset into a numpy array. The dataset we will use has 52 features, with each feature being the quantity of a particular good that was sold in a different calendar week throughout the year. The dataset contains this information for over 800 different products. Unfortunately, I did not have access to the actual paper that the dataset was originally from, only the raw data itself. Therefore, I don't have any other information about the data such as which specific products were used, or when/where the data was sampled from. Nonetheless, it is still sufficient to demonstrate the k-Means algorithm. \n",
    "\n",
    "Additionally, the data has already been normalized, which is important when using the k-Means algorithm to avoid bias in the distance calculations."
   ]
  },
  {
   "cell_type": "code",
   "execution_count": 2,
   "metadata": {},
   "outputs": [
    {
     "name": "stdout",
     "output_type": "stream",
     "text": [
      "The shape of the data is: (811, 52)\n"
     ]
    }
   ],
   "source": [
    "data = np.loadtxt(open(\"product_data.csv\", \"rb\"), delimiter=\",\", skiprows=1)\n",
    "\n",
    "print('The shape of the data is: ' + str(data.shape))"
   ]
  },
  {
   "cell_type": "markdown",
   "metadata": {},
   "source": [
    "We will apply the K-means algorithm on the data. We'll set k equal to 8, and set the maxinum number of iterations to 300. Additionally, Sci-Kits implementation of k-Means will run through the algorithm 10 different times, with each time having different randomly generated points for the initial centroids. The final output will be the result of the best of each of these 10 different run-throughs of the entire algorithm. \n",
    "\n",
    "Lastly, we will set the random_state, so that the same results are achieved with every call of the codebox below."
   ]
  },
  {
   "cell_type": "code",
   "execution_count": 3,
   "metadata": {},
   "outputs": [],
   "source": [
    "kmeans = KMeans(n_clusters=8, init = 'random', max_iter = 300, random_state = 1).fit(data)"
   ]
  },
  {
   "cell_type": "markdown",
   "metadata": {},
   "source": [
    "Below, we can see each grouping that each datapoint has been assigned to, which are represented as an integers in the range [0, 7]"
   ]
  },
  {
   "cell_type": "code",
   "execution_count": 4,
   "metadata": {},
   "outputs": [
    {
     "data": {
      "text/plain": [
       "array([4, 4, 2, 4, 4, 4, 4, 0, 0, 0, 4, 0, 2, 1, 2, 2, 2, 2, 2, 0, 2, 2, 0,\n",
       "       2, 4, 1, 2, 2, 4, 2, 0, 0, 0, 2, 0, 4, 4, 4, 4, 2, 2, 2, 4, 2, 4, 2,\n",
       "       4, 2, 2, 4, 2, 2, 0, 2, 2, 2, 2, 2, 2, 2, 2, 4, 2, 4, 4, 2, 2, 4, 2,\n",
       "       2, 2, 2, 2, 4, 4, 2, 0, 2, 4, 4, 1, 4, 4, 4, 2, 2, 2, 2, 2, 2, 4, 2,\n",
       "       0, 1, 1, 4, 2, 1, 4, 7, 2, 2, 0, 4, 4, 1, 0, 7, 0, 4, 7, 4, 2, 2, 2,\n",
       "       1, 4, 4, 2, 2, 4, 0, 0, 0, 4, 4, 4, 2, 2, 2, 2, 4, 2, 0, 2, 2, 2, 4,\n",
       "       2, 2, 2, 2, 2, 0, 4, 0, 2, 0, 2, 1, 4, 0, 4, 0, 4, 0, 0, 4, 4, 0, 0,\n",
       "       4, 4, 0, 0, 4, 2, 4, 4, 2, 0, 2, 2, 2, 2, 2, 4, 2, 2, 2, 2, 2, 4, 2,\n",
       "       4, 2, 2, 2, 4, 2, 2, 2, 4, 2, 4, 2, 2, 1, 1, 1, 4, 1, 0, 1, 7, 1, 1,\n",
       "       1, 1, 1, 2, 3, 3, 6, 6, 3, 5, 3, 3, 5, 3, 3, 6, 7, 5, 6, 6, 6, 5, 6,\n",
       "       6, 6, 5, 6, 3, 6, 6, 3, 6, 3, 3, 3, 5, 6, 6, 6, 6, 3, 6, 6, 5, 3, 5,\n",
       "       6, 3, 6, 7, 6, 6, 6, 1, 1, 7, 1, 4, 1, 0, 1, 1, 1, 7, 6, 5, 3, 6, 6,\n",
       "       3, 3, 6, 3, 7, 3, 6, 2, 1, 1, 5, 7, 3, 3, 4, 4, 4, 4, 1, 1, 4, 0, 0,\n",
       "       0, 4, 0, 2, 0, 4, 4, 7, 0, 2, 0, 4, 4, 0, 0, 4, 4, 0, 0, 0, 0, 4, 0,\n",
       "       0, 4, 4, 4, 4, 1, 0, 1, 0, 0, 2, 4, 0, 4, 4, 7, 7, 3, 1, 1, 7, 1, 7,\n",
       "       3, 3, 3, 3, 5, 6, 3, 6, 6, 1, 4, 7, 1, 7, 1, 7, 7, 1, 4, 4, 7, 1, 1,\n",
       "       1, 4, 7, 7, 7, 3, 7, 3, 3, 6, 3, 6, 6, 6, 3, 6, 4, 7, 1, 4, 7, 1, 7,\n",
       "       7, 7, 1, 1, 1, 1, 1, 4, 4, 1, 1, 1, 1, 0, 1, 1, 1, 1, 4, 1, 1, 0, 7,\n",
       "       7, 6, 3, 5, 6, 3, 7, 3, 6, 3, 6, 3, 1, 1, 1, 1, 7, 7, 0, 7, 0, 3, 3,\n",
       "       7, 7, 5, 6, 6, 6, 6, 3, 3, 3, 3, 6, 3, 6, 6, 3, 3, 6, 3, 3, 3, 6, 5,\n",
       "       3, 6, 3, 5, 6, 5, 6, 6, 6, 6, 6, 3, 4, 7, 7, 7, 3, 3, 7, 7, 3, 4, 0,\n",
       "       0, 1, 4, 2, 1, 4, 0, 0, 4, 1, 4, 1, 4, 0, 4, 1, 0, 1, 1, 0, 0, 1, 1,\n",
       "       4, 1, 4, 1, 2, 1, 1, 1, 0, 1, 0, 0, 4, 0, 0, 4, 0, 1, 0, 1, 2, 0, 0,\n",
       "       1, 0, 1, 1, 1, 1, 7, 0, 2, 1, 1, 0, 2, 1, 0, 0, 4, 2, 4, 2, 0, 4, 4,\n",
       "       0, 1, 4, 1, 1, 1, 4, 0, 4, 7, 0, 0, 4, 7, 1, 1, 1, 7, 7, 4, 3, 5, 7,\n",
       "       6, 3, 1, 4, 4, 1, 1, 1, 1, 1, 1, 7, 1, 1, 3, 1, 1, 7, 1, 7, 1, 7, 7,\n",
       "       7, 3, 5, 3, 7, 5, 7, 3, 1, 4, 1, 1, 1, 1, 1, 1, 4, 2, 4, 2, 4, 2, 2,\n",
       "       0, 0, 4, 4, 0, 4, 7, 0, 0, 1, 2, 0, 2, 1, 1, 3, 1, 0, 1, 6, 6, 6, 6,\n",
       "       6, 5, 3, 5, 6, 6, 6, 6, 3, 3, 3, 6, 6, 3, 7, 3, 6, 6, 3, 6, 6, 7, 5,\n",
       "       5, 7, 7, 1, 7, 5, 6, 6, 6, 3, 3, 6, 6, 6, 1, 7, 3, 3, 6, 3, 7, 1, 5,\n",
       "       5, 3, 3, 4, 3, 3, 1, 7, 7, 3, 1, 7, 3, 6, 7, 5, 6, 6, 6, 6, 3, 3, 6,\n",
       "       6, 6, 6, 5, 7, 7, 3, 3, 6, 6, 3, 7, 3, 6, 3, 7, 7, 3, 3, 3, 7, 7, 3,\n",
       "       7, 3, 7, 3, 7, 3, 3, 1, 7, 7, 3, 3, 3, 3, 3, 6, 6, 7, 6, 7, 3, 3, 3,\n",
       "       7, 3, 3, 5, 3, 6, 6, 5, 5, 3, 3, 6, 6, 1, 0, 1, 1, 1, 4, 3, 7, 7, 7,\n",
       "       1, 7, 7, 3, 3, 1, 1, 1, 1, 7, 7, 3, 1, 1, 4, 7, 7, 3, 3, 3, 1, 7, 7,\n",
       "       7, 3, 7, 3, 3, 6], dtype=int32)"
      ]
     },
     "execution_count": 4,
     "metadata": {},
     "output_type": "execute_result"
    }
   ],
   "source": [
    "labels = kmeans.labels_\n",
    "labels"
   ]
  },
  {
   "cell_type": "markdown",
   "metadata": {},
   "source": [
    "Using np.bincount, we can figure out the frequency of each of the groupings in the array. The first value in the below array is the number of data points in grouping 0, the second value is the number of data points in grouping 1, etc."
   ]
  },
  {
   "cell_type": "code",
   "execution_count": 5,
   "metadata": {},
   "outputs": [
    {
     "data": {
      "text/plain": [
       "array([ 92, 138, 111, 119, 124,  31, 100,  96])"
      ]
     },
     "execution_count": 5,
     "metadata": {},
     "output_type": "execute_result"
    }
   ],
   "source": [
    "counts = np.bincount(labels)\n",
    "counts"
   ]
  },
  {
   "cell_type": "markdown",
   "metadata": {},
   "source": [
    "Below is a bar graph that illustrates the number of data points in each grouping. As you can see, there is an approximatley equal number of data points in each of the groupings, except for grouping 5. "
   ]
  },
  {
   "cell_type": "code",
   "execution_count": 6,
   "metadata": {},
   "outputs": [
    {
     "data": {
      "image/png": "[encoded data removed]",
      "text/plain": [
       "<matplotlib.figure.Figure at 0x7fb6bc98dd30>"
      ]
     },
     "metadata": {},
     "output_type": "display_data"
    }
   ],
   "source": [
    "fig, ax = plt.subplots()\n",
    "ax.bar(range(len(counts)), counts, width=.5, color = 'b')\n",
    "plt.show()"
   ]
  },
  {
   "cell_type": "markdown",
   "metadata": {},
   "source": [
    "We'd like to actually be able to visualize the groupings using a scatterplot. However, with 52-dimensional data, this is impossible. Luckily, we can use principal component analysis and reduce the dimensionality down to only 2 dimensions, and then apply k-Means on this transformed dataset. We'll use the PCA module from Sci-Kit learn, which is imported below."
   ]
  },
  {
   "cell_type": "code",
   "execution_count": 7,
   "metadata": {},
   "outputs": [],
   "source": [
    "from sklearn.decomposition import PCA"
   ]
  },
  {
   "cell_type": "markdown",
   "metadata": {},
   "source": [
    "Apply PCA, and verify that the data still has the same number of data points as the normal dataset, but with only 2 dimensions instead of 52."
   ]
  },
  {
   "cell_type": "code",
   "execution_count": 8,
   "metadata": {},
   "outputs": [
    {
     "name": "stdout",
     "output_type": "stream",
     "text": [
      "The shape of the data is: (811, 2)\n"
     ]
    }
   ],
   "source": [
    "pca_data = PCA(n_components=2).fit_transform(data)\n",
    "\n",
    "print('The shape of the data is: ' + str(pca_data.shape))"
   ]
  },
  {
   "cell_type": "markdown",
   "metadata": {},
   "source": [
    "Now, run KMeans, using the same parameters as before"
   ]
  },
  {
   "cell_type": "code",
   "execution_count": 9,
   "metadata": {},
   "outputs": [
    {
     "data": {
      "text/plain": [
       "array([4, 4, 2, 4, 4, 4, 4, 0, 0, 0, 4, 0, 2, 1, 2, 2, 2, 2, 2, 0, 2, 2, 0,\n",
       "       2, 4, 1, 2, 2, 4, 2, 0, 0, 0, 2, 0, 4, 4, 4, 4, 2, 2, 2, 4, 2, 4, 2,\n",
       "       4, 2, 2, 4, 2, 2, 0, 2, 2, 2, 2, 2, 2, 2, 2, 4, 2, 4, 4, 2, 2, 4, 2,\n",
       "       2, 2, 2, 2, 4, 4, 2, 0, 2, 4, 4, 1, 4, 4, 4, 2, 2, 2, 2, 2, 2, 4, 2,\n",
       "       0, 1, 1, 4, 2, 1, 4, 7, 2, 2, 0, 4, 4, 1, 0, 7, 0, 4, 7, 4, 2, 2, 2,\n",
       "       1, 4, 4, 2, 2, 4, 0, 0, 0, 4, 4, 4, 2, 2, 2, 2, 4, 2, 0, 2, 2, 2, 4,\n",
       "       2, 2, 2, 2, 2, 0, 4, 0, 2, 0, 2, 1, 4, 0, 4, 0, 4, 0, 0, 4, 4, 0, 0,\n",
       "       4, 4, 0, 0, 4, 2, 4, 4, 2, 0, 2, 2, 2, 2, 2, 4, 2, 2, 2, 2, 2, 4, 2,\n",
       "       4, 2, 2, 2, 4, 2, 2, 2, 4, 2, 4, 2, 2, 1, 1, 1, 4, 1, 0, 1, 7, 1, 1,\n",
       "       1, 1, 1, 2, 3, 3, 6, 6, 3, 5, 3, 3, 5, 3, 3, 6, 7, 5, 6, 6, 6, 5, 6,\n",
       "       6, 6, 5, 6, 3, 6, 6, 3, 6, 3, 3, 3, 5, 6, 6, 6, 6, 3, 6, 6, 5, 3, 5,\n",
       "       6, 3, 6, 7, 6, 6, 6, 1, 1, 7, 1, 4, 1, 0, 1, 1, 1, 7, 6, 5, 3, 6, 6,\n",
       "       3, 3, 6, 3, 7, 3, 6, 2, 1, 1, 5, 7, 3, 3, 4, 4, 4, 4, 1, 1, 4, 0, 0,\n",
       "       0, 4, 0, 2, 0, 4, 4, 7, 0, 2, 0, 4, 4, 0, 0, 4, 4, 0, 0, 0, 0, 4, 0,\n",
       "       0, 4, 4, 4, 4, 1, 0, 1, 0, 0, 2, 4, 0, 4, 4, 7, 7, 3, 1, 1, 7, 1, 7,\n",
       "       3, 3, 3, 3, 5, 6, 3, 6, 6, 1, 4, 7, 1, 7, 1, 7, 7, 1, 4, 4, 7, 1, 1,\n",
       "       1, 4, 7, 7, 7, 3, 7, 3, 3, 6, 3, 6, 6, 6, 3, 6, 4, 7, 1, 4, 7, 1, 7,\n",
       "       7, 7, 1, 1, 1, 1, 1, 4, 4, 1, 1, 1, 1, 0, 1, 1, 1, 1, 4, 1, 1, 0, 7,\n",
       "       7, 6, 3, 5, 6, 3, 7, 3, 6, 3, 6, 3, 1, 1, 1, 1, 7, 7, 0, 7, 0, 3, 3,\n",
       "       7, 7, 5, 6, 6, 6, 6, 3, 3, 3, 3, 6, 3, 6, 6, 3, 3, 6, 3, 3, 3, 6, 5,\n",
       "       3, 6, 3, 5, 6, 5, 6, 6, 6, 6, 6, 3, 4, 7, 7, 7, 3, 3, 7, 7, 3, 4, 0,\n",
       "       0, 1, 4, 2, 1, 4, 0, 0, 4, 1, 4, 1, 4, 0, 4, 1, 0, 1, 1, 0, 0, 1, 1,\n",
       "       4, 1, 4, 1, 2, 1, 1, 1, 0, 1, 0, 0, 4, 0, 0, 4, 0, 1, 0, 1, 2, 0, 0,\n",
       "       1, 0, 1, 1, 1, 1, 7, 0, 2, 1, 1, 0, 2, 1, 0, 0, 4, 2, 4, 2, 0, 4, 4,\n",
       "       0, 1, 4, 1, 1, 1, 4, 0, 4, 7, 0, 0, 4, 7, 1, 1, 1, 7, 7, 4, 3, 5, 7,\n",
       "       6, 3, 1, 4, 4, 1, 1, 1, 1, 1, 1, 7, 1, 1, 3, 1, 1, 7, 1, 7, 1, 7, 7,\n",
       "       7, 3, 5, 3, 7, 5, 7, 3, 1, 4, 1, 1, 1, 1, 1, 1, 4, 2, 4, 2, 4, 2, 2,\n",
       "       0, 0, 4, 4, 0, 4, 7, 0, 0, 1, 2, 0, 2, 1, 1, 3, 1, 0, 1, 6, 6, 6, 6,\n",
       "       6, 5, 3, 5, 6, 6, 6, 6, 3, 3, 3, 6, 6, 3, 7, 3, 6, 6, 3, 6, 6, 7, 5,\n",
       "       5, 7, 7, 1, 7, 5, 6, 6, 6, 3, 3, 6, 6, 6, 1, 7, 3, 3, 6, 3, 7, 1, 5,\n",
       "       5, 3, 3, 4, 3, 3, 1, 7, 7, 3, 1, 7, 3, 6, 7, 5, 6, 6, 6, 6, 3, 3, 6,\n",
       "       6, 6, 6, 5, 7, 7, 3, 3, 6, 6, 3, 7, 3, 6, 3, 7, 7, 3, 3, 3, 7, 7, 3,\n",
       "       7, 3, 7, 3, 7, 3, 3, 1, 7, 7, 3, 3, 3, 3, 3, 6, 6, 7, 6, 7, 3, 3, 3,\n",
       "       7, 3, 3, 5, 3, 6, 6, 5, 5, 3, 3, 6, 6, 1, 0, 1, 1, 1, 4, 3, 7, 7, 7,\n",
       "       1, 7, 7, 3, 3, 1, 1, 1, 1, 7, 7, 3, 1, 1, 4, 7, 7, 3, 3, 3, 1, 7, 7,\n",
       "       7, 3, 7, 3, 3, 6], dtype=int32)"
      ]
     },
     "execution_count": 9,
     "metadata": {},
     "output_type": "execute_result"
    }
   ],
   "source": [
    "kmeans_pca = KMeans(n_clusters=8, init = 'random', max_iter = 300, random_state = 1).fit(data)\n",
    "labels_pca = kmeans_pca.labels_\n",
    "labels_pca"
   ]
  },
  {
   "cell_type": "markdown",
   "metadata": {},
   "source": [
    "Interestingly, the assigned groupings of the PCA data are the same as the normal data. This is verified with the code below:"
   ]
  },
  {
   "cell_type": "code",
   "execution_count": 10,
   "metadata": {},
   "outputs": [
    {
     "data": {
      "text/plain": [
       "array([ True,  True,  True,  True,  True,  True,  True,  True,  True,\n",
       "        True,  True,  True,  True,  True,  True,  True,  True,  True,\n",
       "        True,  True,  True,  True,  True,  True,  True,  True,  True,\n",
       "        True,  True,  True,  True,  True,  True,  True,  True,  True,\n",
       "        True,  True,  True,  True,  True,  True,  True,  True,  True,\n",
       "        True,  True,  True,  True,  True,  True,  True,  True,  True,\n",
       "        True,  True,  True,  True,  True,  True,  True,  True,  True,\n",
       "        True,  True,  True,  True,  True,  True,  True,  True,  True,\n",
       "        True,  True,  True,  True,  True,  True,  True,  True,  True,\n",
       "        True,  True,  True,  True,  True,  True,  True,  True,  True,\n",
       "        True,  True,  True,  True,  True,  True,  True,  True,  True,\n",
       "        True,  True,  True,  True,  True,  True,  True,  True,  True,\n",
       "        True,  True,  True,  True,  True,  True,  True,  True,  True,\n",
       "        True,  True,  True,  True,  True,  True,  True,  True,  True,\n",
       "        True,  True,  True,  True,  True,  True,  True,  True,  True,\n",
       "        True,  True,  True,  True,  True,  True,  True,  True,  True,\n",
       "        True,  True,  True,  True,  True,  True,  True,  True,  True,\n",
       "        True,  True,  True,  True,  True,  True,  True,  True,  True,\n",
       "        True,  True,  True,  True,  True,  True,  True,  True,  True,\n",
       "        True,  True,  True,  True,  True,  True,  True,  True,  True,\n",
       "        True,  True,  True,  True,  True,  True,  True,  True,  True,\n",
       "        True,  True,  True,  True,  True,  True,  True,  True,  True,\n",
       "        True,  True,  True,  True,  True,  True,  True,  True,  True,\n",
       "        True,  True,  True,  True,  True,  True,  True,  True,  True,\n",
       "        True,  True,  True,  True,  True,  True,  True,  True,  True,\n",
       "        True,  True,  True,  True,  True,  True,  True,  True,  True,\n",
       "        True,  True,  True,  True,  True,  True,  True,  True,  True,\n",
       "        True,  True,  True,  True,  True,  True,  True,  True,  True,\n",
       "        True,  True,  True,  True,  True,  True,  True,  True,  True,\n",
       "        True,  True,  True,  True,  True,  True,  True,  True,  True,\n",
       "        True,  True,  True,  True,  True,  True,  True,  True,  True,\n",
       "        True,  True,  True,  True,  True,  True,  True,  True,  True,\n",
       "        True,  True,  True,  True,  True,  True,  True,  True,  True,\n",
       "        True,  True,  True,  True,  True,  True,  True,  True,  True,\n",
       "        True,  True,  True,  True,  True,  True,  True,  True,  True,\n",
       "        True,  True,  True,  True,  True,  True,  True,  True,  True,\n",
       "        True,  True,  True,  True,  True,  True,  True,  True,  True,\n",
       "        True,  True,  True,  True,  True,  True,  True,  True,  True,\n",
       "        True,  True,  True,  True,  True,  True,  True,  True,  True,\n",
       "        True,  True,  True,  True,  True,  True,  True,  True,  True,\n",
       "        True,  True,  True,  True,  True,  True,  True,  True,  True,\n",
       "        True,  True,  True,  True,  True,  True,  True,  True,  True,\n",
       "        True,  True,  True,  True,  True,  True,  True,  True,  True,\n",
       "        True,  True,  True,  True,  True,  True,  True,  True,  True,\n",
       "        True,  True,  True,  True,  True,  True,  True,  True,  True,\n",
       "        True,  True,  True,  True,  True,  True,  True,  True,  True,\n",
       "        True,  True,  True,  True,  True,  True,  True,  True,  True,\n",
       "        True,  True,  True,  True,  True,  True,  True,  True,  True,\n",
       "        True,  True,  True,  True,  True,  True,  True,  True,  True,\n",
       "        True,  True,  True,  True,  True,  True,  True,  True,  True,\n",
       "        True,  True,  True,  True,  True,  True,  True,  True,  True,\n",
       "        True,  True,  True,  True,  True,  True,  True,  True,  True,\n",
       "        True,  True,  True,  True,  True,  True,  True,  True,  True,\n",
       "        True,  True,  True,  True,  True,  True,  True,  True,  True,\n",
       "        True,  True,  True,  True,  True,  True,  True,  True,  True,\n",
       "        True,  True,  True,  True,  True,  True,  True,  True,  True,\n",
       "        True,  True,  True,  True,  True,  True,  True,  True,  True,\n",
       "        True,  True,  True,  True,  True,  True,  True,  True,  True,\n",
       "        True,  True,  True,  True,  True,  True,  True,  True,  True,\n",
       "        True,  True,  True,  True,  True,  True,  True,  True,  True,\n",
       "        True,  True,  True,  True,  True,  True,  True,  True,  True,\n",
       "        True,  True,  True,  True,  True,  True,  True,  True,  True,\n",
       "        True,  True,  True,  True,  True,  True,  True,  True,  True,\n",
       "        True,  True,  True,  True,  True,  True,  True,  True,  True,\n",
       "        True,  True,  True,  True,  True,  True,  True,  True,  True,\n",
       "        True,  True,  True,  True,  True,  True,  True,  True,  True,\n",
       "        True,  True,  True,  True,  True,  True,  True,  True,  True,\n",
       "        True,  True,  True,  True,  True,  True,  True,  True,  True,\n",
       "        True,  True,  True,  True,  True,  True,  True,  True,  True,\n",
       "        True,  True,  True,  True,  True,  True,  True,  True,  True,\n",
       "        True,  True,  True,  True,  True,  True,  True,  True,  True,\n",
       "        True,  True,  True,  True,  True,  True,  True,  True,  True,\n",
       "        True,  True,  True,  True,  True,  True,  True,  True,  True,\n",
       "        True,  True,  True,  True,  True,  True,  True,  True,  True,\n",
       "        True,  True,  True,  True,  True,  True,  True,  True,  True,\n",
       "        True,  True,  True,  True,  True,  True,  True,  True,  True,\n",
       "        True,  True,  True,  True,  True,  True,  True,  True,  True,\n",
       "        True,  True,  True,  True,  True,  True,  True,  True,  True,\n",
       "        True,  True,  True,  True,  True,  True,  True,  True,  True,\n",
       "        True,  True,  True,  True,  True,  True,  True,  True,  True,\n",
       "        True,  True,  True,  True,  True,  True,  True,  True,  True,\n",
       "        True,  True,  True,  True,  True,  True,  True,  True,  True,\n",
       "        True,  True,  True,  True,  True,  True,  True,  True,  True,\n",
       "        True,  True,  True,  True,  True,  True,  True,  True,  True,\n",
       "        True,  True,  True,  True,  True,  True,  True,  True,  True,\n",
       "        True,  True,  True,  True,  True,  True,  True,  True,  True,\n",
       "        True,  True,  True,  True,  True,  True,  True,  True,  True,\n",
       "        True,  True,  True,  True,  True,  True,  True,  True,  True,\n",
       "        True,  True,  True,  True,  True,  True,  True,  True,  True,\n",
       "        True,  True,  True,  True,  True,  True,  True,  True,  True,  True], dtype=bool)"
      ]
     },
     "execution_count": 10,
     "metadata": {},
     "output_type": "execute_result"
    }
   ],
   "source": [
    "labels == labels_pca"
   ]
  },
  {
   "cell_type": "markdown",
   "metadata": {},
   "source": [
    "Now, we'll load the PCA data into a Pandas dataframe, which will then be used to create a scatterplot"
   ]
  },
  {
   "cell_type": "code",
   "execution_count": 11,
   "metadata": {},
   "outputs": [
    {
     "data": {
      "text/html": [
       "<div>\n",
       "<style>\n",
       "    .dataframe thead tr:only-child th {\n",
       "        text-align: right;\n",
       "    }\n",
       "\n",
       "    .dataframe thead th {\n",
       "        text-align: left;\n",
       "    }\n",
       "\n",
       "    .dataframe tbody tr th {\n",
       "        vertical-align: top;\n",
       "    }\n",
       "</style>\n",
       "<table border=\"1\" class=\"dataframe\">\n",
       "  <thead>\n",
       "    <tr style=\"text-align: right;\">\n",
       "      <th></th>\n",
       "      <th>PCA_1</th>\n",
       "      <th>PCA_2</th>\n",
       "      <th>Grouping</th>\n",
       "    </tr>\n",
       "  </thead>\n",
       "  <tbody>\n",
       "    <tr>\n",
       "      <th>0</th>\n",
       "      <td>-0.487869</td>\n",
       "      <td>-0.450908</td>\n",
       "      <td>4</td>\n",
       "    </tr>\n",
       "    <tr>\n",
       "      <th>1</th>\n",
       "      <td>-0.626115</td>\n",
       "      <td>-0.308341</td>\n",
       "      <td>4</td>\n",
       "    </tr>\n",
       "    <tr>\n",
       "      <th>2</th>\n",
       "      <td>-1.451752</td>\n",
       "      <td>-0.035126</td>\n",
       "      <td>2</td>\n",
       "    </tr>\n",
       "    <tr>\n",
       "      <th>3</th>\n",
       "      <td>-0.427121</td>\n",
       "      <td>-0.222939</td>\n",
       "      <td>4</td>\n",
       "    </tr>\n",
       "    <tr>\n",
       "      <th>4</th>\n",
       "      <td>-0.489233</td>\n",
       "      <td>-0.105435</td>\n",
       "      <td>4</td>\n",
       "    </tr>\n",
       "    <tr>\n",
       "      <th>5</th>\n",
       "      <td>-0.528947</td>\n",
       "      <td>0.080270</td>\n",
       "      <td>4</td>\n",
       "    </tr>\n",
       "    <tr>\n",
       "      <th>6</th>\n",
       "      <td>-0.829618</td>\n",
       "      <td>-0.284876</td>\n",
       "      <td>4</td>\n",
       "    </tr>\n",
       "    <tr>\n",
       "      <th>7</th>\n",
       "      <td>-1.118031</td>\n",
       "      <td>0.141945</td>\n",
       "      <td>0</td>\n",
       "    </tr>\n",
       "    <tr>\n",
       "      <th>8</th>\n",
       "      <td>-1.425127</td>\n",
       "      <td>0.059311</td>\n",
       "      <td>0</td>\n",
       "    </tr>\n",
       "    <tr>\n",
       "      <th>9</th>\n",
       "      <td>-0.995023</td>\n",
       "      <td>-0.007283</td>\n",
       "      <td>0</td>\n",
       "    </tr>\n",
       "    <tr>\n",
       "      <th>10</th>\n",
       "      <td>-0.659443</td>\n",
       "      <td>0.019782</td>\n",
       "      <td>4</td>\n",
       "    </tr>\n",
       "    <tr>\n",
       "      <th>11</th>\n",
       "      <td>-0.839672</td>\n",
       "      <td>0.115407</td>\n",
       "      <td>0</td>\n",
       "    </tr>\n",
       "    <tr>\n",
       "      <th>12</th>\n",
       "      <td>-1.231147</td>\n",
       "      <td>-0.211382</td>\n",
       "      <td>2</td>\n",
       "    </tr>\n",
       "    <tr>\n",
       "      <th>13</th>\n",
       "      <td>-0.730899</td>\n",
       "      <td>0.162357</td>\n",
       "      <td>1</td>\n",
       "    </tr>\n",
       "    <tr>\n",
       "      <th>14</th>\n",
       "      <td>-1.400970</td>\n",
       "      <td>-0.672921</td>\n",
       "      <td>2</td>\n",
       "    </tr>\n",
       "    <tr>\n",
       "      <th>15</th>\n",
       "      <td>-1.055858</td>\n",
       "      <td>-0.565914</td>\n",
       "      <td>2</td>\n",
       "    </tr>\n",
       "    <tr>\n",
       "      <th>16</th>\n",
       "      <td>-1.434615</td>\n",
       "      <td>-0.486953</td>\n",
       "      <td>2</td>\n",
       "    </tr>\n",
       "    <tr>\n",
       "      <th>17</th>\n",
       "      <td>-1.160410</td>\n",
       "      <td>-0.661786</td>\n",
       "      <td>2</td>\n",
       "    </tr>\n",
       "    <tr>\n",
       "      <th>18</th>\n",
       "      <td>-1.226238</td>\n",
       "      <td>-0.522460</td>\n",
       "      <td>2</td>\n",
       "    </tr>\n",
       "    <tr>\n",
       "      <th>19</th>\n",
       "      <td>-1.128564</td>\n",
       "      <td>-0.148748</td>\n",
       "      <td>0</td>\n",
       "    </tr>\n",
       "  </tbody>\n",
       "</table>\n",
       "</div>"
      ],
      "text/plain": [
       "       PCA_1     PCA_2  Grouping\n",
       "0  -0.487869 -0.450908         4\n",
       "1  -0.626115 -0.308341         4\n",
       "2  -1.451752 -0.035126         2\n",
       "3  -0.427121 -0.222939         4\n",
       "4  -0.489233 -0.105435         4\n",
       "5  -0.528947  0.080270         4\n",
       "6  -0.829618 -0.284876         4\n",
       "7  -1.118031  0.141945         0\n",
       "8  -1.425127  0.059311         0\n",
       "9  -0.995023 -0.007283         0\n",
       "10 -0.659443  0.019782         4\n",
       "11 -0.839672  0.115407         0\n",
       "12 -1.231147 -0.211382         2\n",
       "13 -0.730899  0.162357         1\n",
       "14 -1.400970 -0.672921         2\n",
       "15 -1.055858 -0.565914         2\n",
       "16 -1.434615 -0.486953         2\n",
       "17 -1.160410 -0.661786         2\n",
       "18 -1.226238 -0.522460         2\n",
       "19 -1.128564 -0.148748         0"
      ]
     },
     "execution_count": 11,
     "metadata": {},
     "output_type": "execute_result"
    }
   ],
   "source": [
    "df = pd.DataFrame()\n",
    "df['PCA_1'] = pca_data[:, 0]\n",
    "df['PCA_2'] =pca_data[:, 1]\n",
    "df['Grouping'] = labels_pca\n",
    "df.head(20)"
   ]
  },
  {
   "cell_type": "code",
   "execution_count": 12,
   "metadata": {},
   "outputs": [
    {
     "data": {
      "image/png": "[encoded data removed]",
      "text/plain": [
       "<matplotlib.figure.Figure at 0x7fb6bc934e10>"
      ]
     },
     "metadata": {},
     "output_type": "display_data"
    }
   ],
   "source": [
    "fig, ax = plt.subplots()\n",
    "ax.scatter(df['PCA_1'], df['PCA_2'], c = df['Grouping'])\n",
    "plt.show()"
   ]
  },
  {
   "cell_type": "markdown",
   "metadata": {},
   "source": [
    "In the scatterplot, each of the 8 groupings is a different color."
   ]
  },
  {
   "cell_type": "markdown",
   "metadata": {},
   "source": [
    "Bibliography:\n",
    "\n",
    "Data pulled from the following paper:\n",
    "\n",
    "Tan, Swee Chuan and San Lau, Jess Pei. \"Time series clustering: A superior alternative for market basket analysis.\" Proceedings of the First International Conference on Advanced Data and Information Engineering (DaEng-2013): 241-248.\n",
    "Direct URL to raw data: https://archive.ics.uci.edu/ml/datasets/Sales_Transactions_Dataset_Weekly#\n",
    "\n",
    "Other sources used:\n",
    "\n",
    "Victor Lavrenko. \"K-means clustering: how it works.\" Filmed [Jan 2013]. YouTube video, 07:34. Posted [Jan 2013]. https://youtu.be/_aWzGGNrcic\n",
    "\n",
    "\"Sklearn.cluster.KMeans.\" Sklearn.cluster.KMeans — scikit-learn 0.19.1 documentation. Accessed November 20, 2017. http://scikit-learn.org/stable/modules/generated/sklearn.cluster.KMeans.html.\n",
    "\n",
    "\"Sklearn.decomposition.PCA.\" Sklearn.decomposition.PCA — scikit-learn 0.19.1 documentation. Accessed November 20, 2017. http://scikit-learn.org/stable/modules/generated/sklearn.decomposition.PCA.html."
   ]
  },
  {
   "cell_type": "code",
   "execution_count": null,
   "metadata": {},
   "outputs": [],
   "source": []
  }
 ],
 "metadata": {
  "kernelspec": {
   "display_name": "Python 3",
   "language": "python",
   "name": "python3"
  },
  "language_info": {
   "codemirror_mode": {
    "name": "ipython",
    "version": 3
   },
   "file_extension": ".py",
   "mimetype": "text/x-python",
   "name": "python",
   "nbconvert_exporter": "python",
   "pygments_lexer": "ipython3",
   "version": "3.4.3"
  }
 },
 "nbformat": 4,
 "nbformat_minor": 2
}
