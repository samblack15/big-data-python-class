{
 "cells": [
  {
   "cell_type": "markdown",
   "metadata": {},
   "source": [
    "Python dictionaries are a data structure used to store a collection of key-value pairs, where each key in the dictionary is mapped to exactly 1 value. Dictionaries are unordered and mutable. "
   ]
  },
  {
   "cell_type": "code",
   "execution_count": null,
   "metadata": {
    "collapsed": true
   },
   "outputs": [],
   "source": [
    "#Dictionaries can be created using a a pair of curly brackets\n",
    "\n",
    "#An empty dictionary:\n",
    "d = {}\n"
   ]
  },
  {
   "cell_type": "code",
   "execution_count": 1,
   "metadata": {
    "collapsed": true
   },
   "outputs": [],
   "source": [
    "#Key-value pairs are separated in dictionaries using commas. Each key-value pair is separated using a colon, \n",
    "#with the key on the left of the semi colon and the value on the right.\n",
    "\n",
    "#The keys in the following dictionary are \"element1\", \"element2\", and the tuple (3, 2). The values are 23, [1,2,3] and \"value\".\n",
    "d = {\"element1\" : 23, \"element2\" : [1,2,3], (3, 2) : 'value'}"
   ]
  },
  {
   "cell_type": "code",
   "execution_count": 2,
   "metadata": {},
   "outputs": [
    {
     "name": "stdout",
     "output_type": "stream",
     "text": [
      "[1, 2, 3]\n"
     ]
    }
   ],
   "source": [
    "#You can retrieve each value in the dictionary by referencing its key\n",
    "\n",
    "print(d[\"element2\"])"
   ]
  },
  {
   "cell_type": "code",
   "execution_count": 3,
   "metadata": {
    "scrolled": true
   },
   "outputs": [
    {
     "name": "stdout",
     "output_type": "stream",
     "text": [
      "{'element1': 23, 'element2': [1, 2, 3], (3, 2): 'value', 'new key': 'new value'}\n"
     ]
    }
   ],
   "source": [
    "#New key-value pairs can be added to dictionaries by using the following syntax : DICTIONARY[KEY] = VALUE\n",
    "\n",
    "d[\"new key\"] = \"new value\"\n",
    "\n",
    "print(d)"
   ]
  },
  {
   "cell_type": "code",
   "execution_count": 4,
   "metadata": {},
   "outputs": [
    {
     "name": "stdout",
     "output_type": "stream",
     "text": [
      "{'element1': 0, 'element2': [1, 2, 3], (3, 2): 'value', 'new key': 'new value'}\n"
     ]
    }
   ],
   "source": [
    "#Performing the above operation on an existing key will change its value\n",
    "\n",
    "d[\"element1\"] = 0\n",
    "\n",
    "print(d)"
   ]
  },
  {
   "cell_type": "code",
   "execution_count": 7,
   "metadata": {},
   "outputs": [
    {
     "name": "stdout",
     "output_type": "stream",
     "text": [
      "{'element1': 0, 'element2': [1, 2, 3], (3, 2): 'value'}\n"
     ]
    }
   ],
   "source": [
    "#An key-value pair can be removed from a dictionary using the 'del' keyword\n",
    "\n",
    "\n",
    "del d['new key']\n",
    "\n",
    "print(d)"
   ]
  },
  {
   "cell_type": "code",
   "execution_count": 12,
   "metadata": {},
   "outputs": [
    {
     "ename": "TypeError",
     "evalue": "unhashable type: 'list'",
     "output_type": "error",
     "traceback": [
      "\u001b[1;31m---------------------------------------------------------------------------\u001b[0m",
      "\u001b[1;31mTypeError\u001b[0m                                 Traceback (most recent call last)",
      "\u001b[1;32m<ipython-input-12-db76cf7b16ee>\u001b[0m in \u001b[0;36m<module>\u001b[1;34m()\u001b[0m\n\u001b[0;32m      1\u001b[0m \u001b[1;31m#Dictionary keys must be inmutable, meaning that lists (and dictionaries themselves) cannot be dictionary keys\u001b[0m\u001b[1;33m\u001b[0m\u001b[1;33m\u001b[0m\u001b[0m\n\u001b[0;32m      2\u001b[0m \u001b[1;33m\u001b[0m\u001b[0m\n\u001b[1;32m----> 3\u001b[1;33m \u001b[0mbad_dictionary\u001b[0m \u001b[1;33m=\u001b[0m \u001b[1;33m{\u001b[0m\u001b[1;33m[\u001b[0m\u001b[1;34m\"key\"\u001b[0m\u001b[1;33m]\u001b[0m \u001b[1;33m:\u001b[0m \u001b[1;34m\"value\"\u001b[0m\u001b[1;33m}\u001b[0m\u001b[1;33m\u001b[0m\u001b[0m\n\u001b[0m",
      "\u001b[1;31mTypeError\u001b[0m: unhashable type: 'list'"
     ]
    }
   ],
   "source": [
    "#Dictionary keys must be inmutable, meaning that lists (and dictionaries themselves) cannot be dictionary keys\n",
    "\n",
    "bad_dictionary = {[\"key\"] : \"value\"}"
   ]
  },
  {
   "cell_type": "code",
   "execution_count": 13,
   "metadata": {},
   "outputs": [
    {
     "name": "stdout",
     "output_type": "stream",
     "text": [
      "{1: 5, 'abc': (1, 2), 'def': 3.23}\n"
     ]
    }
   ],
   "source": [
    "#One dictionary can be merged with another using the 'update' method.\n",
    "\n",
    "d1 = {1 : 2, 'abc' : (1, 2)}\n",
    "d2 = {1 : 5, 'def' : 3.23}\n",
    "\n",
    "d1.update(d2)\n",
    "\n",
    "print(d1)\n",
    "\n",
    "#Note that the key 1 is definied in both the original d1 and d2. In the updated d1, its associated value is now\n",
    "#overwritten with what it was in d2."
   ]
  },
  {
   "cell_type": "code",
   "execution_count": 15,
   "metadata": {},
   "outputs": [
    {
     "name": "stdout",
     "output_type": "stream",
     "text": [
      "e1\n",
      "e2\n",
      "e3\n"
     ]
    }
   ],
   "source": [
    "#The elements in dictionaries can be iterated over\n",
    "\n",
    "d = {\"e1\" : 1, \"e2\" : 2, \"e3\" : 3}\n",
    "\n",
    "#Looping over keys:\n",
    "\n",
    "for key in d.keys():\n",
    "    print (key)\n"
   ]
  },
  {
   "cell_type": "code",
   "execution_count": 17,
   "metadata": {
    "scrolled": true
   },
   "outputs": [
    {
     "name": "stdout",
     "output_type": "stream",
     "text": [
      "1\n",
      "2\n",
      "3\n"
     ]
    }
   ],
   "source": [
    "#Looping over values:\n",
    "\n",
    "for value in d.values():\n",
    "    print (value)"
   ]
  },
  {
   "cell_type": "code",
   "execution_count": 19,
   "metadata": {
    "scrolled": false
   },
   "outputs": [
    {
     "name": "stdout",
     "output_type": "stream",
     "text": [
      "('e1', 1)\n",
      "('e2', 2)\n",
      "('e3', 3)\n"
     ]
    }
   ],
   "source": [
    "#Looping over key-value pairs (also called 'items'):\n",
    "\n",
    "for item in d.items():\n",
    "    print (item)"
   ]
  },
  {
   "cell_type": "code",
   "execution_count": null,
   "metadata": {
    "collapsed": true
   },
   "outputs": [],
   "source": [
    "#Sources:\n",
    "    \n",
    "# https://www.python-course.eu/dictionaries.php\n",
    "# https://www.tutorialspoint.com/python/dictionary_items.htm"
   ]
  }
 ],
 "metadata": {
  "kernelspec": {
   "display_name": "Python 3",
   "language": "python",
   "name": "python3"
  },
  "language_info": {
   "codemirror_mode": {
    "name": "ipython",
    "version": 3
   },
   "file_extension": ".py",
   "mimetype": "text/x-python",
   "name": "python",
   "nbconvert_exporter": "python",
   "pygments_lexer": "ipython3",
   "version": "3.6.1"
  }
 },
 "nbformat": 4,
 "nbformat_minor": 2
}
