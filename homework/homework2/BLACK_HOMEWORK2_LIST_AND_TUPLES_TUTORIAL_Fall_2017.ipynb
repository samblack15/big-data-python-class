{
 "cells": [
  {
   "cell_type": "markdown",
   "metadata": {},
   "source": [
    "Lists in Python are a standard datatype that store an ordered sequence of values. Lists are mutable, meaning that they can be restructured once they are created. Tuples are another datatype in Python that function similarily to lists, with the key difference being that they are immutable."
   ]
  },
  {
   "cell_type": "code",
   "execution_count": 8,
   "metadata": {},
   "outputs": [
    {
     "name": "stdout",
     "output_type": "stream",
     "text": [
      "3.86\n",
      "><<>\n"
     ]
    }
   ],
   "source": [
    "#Below are list \"l\" and tuple \"t\"\n",
    "\n",
    "l = [1, \"><<>\", 3.86, \"abc\"]\n",
    "t = (1, \"><<>\", 3.86, \"abc\")\n",
    "\n",
    "#Both lists and tuples are indexed, allowing a particular item can be fetched from the list or tuple by using its index:\n",
    "\n",
    "print(l[2])\n",
    "print(t[1])\n"
   ]
  },
  {
   "cell_type": "code",
   "execution_count": 7,
   "metadata": {},
   "outputs": [
    {
     "name": "stdout",
     "output_type": "stream",
     "text": [
      "4\n",
      "4\n"
     ]
    }
   ],
   "source": [
    "#Can use len property on lists and tuples to get their size size\n",
    "\n",
    "print (len(l))\n",
    "print (len(t))"
   ]
  },
  {
   "cell_type": "code",
   "execution_count": 10,
   "metadata": {},
   "outputs": [
    {
     "name": "stdout",
     "output_type": "stream",
     "text": [
      "[1, '><<>', 'abc', 'added element']\n"
     ]
    }
   ],
   "source": [
    "#Since lists, are mutable, elements in a list can be switched around, added, or removed.\n",
    "\n",
    "l[0], l[3] = l[3], l[0]\n",
    "l.append(\"added element\")\n",
    "del l[2]\n",
    "\n",
    "print (l)"
   ]
  },
  {
   "cell_type": "code",
   "execution_count": 12,
   "metadata": {},
   "outputs": [
    {
     "ename": "TypeError",
     "evalue": "'tuple' object doesn't support item deletion",
     "output_type": "error",
     "traceback": [
      "\u001b[1;31m---------------------------------------------------------------------------\u001b[0m",
      "\u001b[1;31mTypeError\u001b[0m                                 Traceback (most recent call last)",
      "\u001b[1;32m<ipython-input-12-6d6df4f99462>\u001b[0m in \u001b[0;36m<module>\u001b[1;34m()\u001b[0m\n\u001b[0;32m      1\u001b[0m \u001b[1;31m#However, the same cannot be done to tuples, since they inmutable\u001b[0m\u001b[1;33m\u001b[0m\u001b[1;33m\u001b[0m\u001b[0m\n\u001b[0;32m      2\u001b[0m \u001b[1;33m\u001b[0m\u001b[0m\n\u001b[1;32m----> 3\u001b[1;33m \u001b[1;32mdel\u001b[0m \u001b[0mt\u001b[0m\u001b[1;33m[\u001b[0m\u001b[1;36m2\u001b[0m\u001b[1;33m]\u001b[0m\u001b[1;33m\u001b[0m\u001b[0m\n\u001b[0m\u001b[0;32m      4\u001b[0m \u001b[0mt\u001b[0m\u001b[1;33m[\u001b[0m\u001b[1;36m0\u001b[0m\u001b[1;33m]\u001b[0m\u001b[1;33m,\u001b[0m \u001b[0mt\u001b[0m\u001b[1;33m[\u001b[0m\u001b[1;36m3\u001b[0m\u001b[1;33m]\u001b[0m \u001b[1;33m=\u001b[0m \u001b[0mt\u001b[0m\u001b[1;33m[\u001b[0m\u001b[1;36m3\u001b[0m\u001b[1;33m]\u001b[0m\u001b[1;33m,\u001b[0m \u001b[0mt\u001b[0m\u001b[1;33m[\u001b[0m\u001b[1;36m0\u001b[0m\u001b[1;33m]\u001b[0m\u001b[1;33m\u001b[0m\u001b[0m\n\u001b[0;32m      5\u001b[0m \u001b[0mt\u001b[0m\u001b[1;33m.\u001b[0m\u001b[0mappend\u001b[0m\u001b[1;33m(\u001b[0m\u001b[1;34m\"added element\"\u001b[0m\u001b[1;33m)\u001b[0m\u001b[1;33m\u001b[0m\u001b[0m\n",
      "\u001b[1;31mTypeError\u001b[0m: 'tuple' object doesn't support item deletion"
     ]
    }
   ],
   "source": [
    "#However, the same cannot be done to tuples, since they inmutable. Executing the code below results in a type errors\n",
    "\n",
    "\n",
    "t[0], t[3] = t[3], t[0]\n",
    "t.append(\"added element\")\n",
    "del t[2]\n"
   ]
  },
  {
   "cell_type": "code",
   "execution_count": null,
   "metadata": {
    "collapsed": true
   },
   "outputs": [],
   "source": [
    "#Additionally, lists can be sorted (using the sort method, as they are mutable)"
   ]
  },
  {
   "cell_type": "code",
   "execution_count": 38,
   "metadata": {},
   "outputs": [
    {
     "name": "stdout",
     "output_type": "stream",
     "text": [
      "[0, 2, 3, 3, 3, 5, 6, 9]\n"
     ]
    }
   ],
   "source": [
    "l = [5, 6, 3, 0, 9, 3, 2, 3]\n",
    "l.sort()\n",
    "print(l)"
   ]
  },
  {
   "cell_type": "code",
   "execution_count": null,
   "metadata": {
    "collapsed": true
   },
   "outputs": [],
   "source": [
    "#Tuples cannot be sorted."
   ]
  },
  {
   "cell_type": "code",
   "execution_count": 39,
   "metadata": {},
   "outputs": [
    {
     "ename": "AttributeError",
     "evalue": "'tuple' object has no attribute 'sort'",
     "output_type": "error",
     "traceback": [
      "\u001b[1;31m---------------------------------------------------------------------------\u001b[0m",
      "\u001b[1;31mAttributeError\u001b[0m                            Traceback (most recent call last)",
      "\u001b[1;32m<ipython-input-39-119e9280d691>\u001b[0m in \u001b[0;36m<module>\u001b[1;34m()\u001b[0m\n\u001b[0;32m      1\u001b[0m \u001b[0mt\u001b[0m \u001b[1;33m=\u001b[0m \u001b[1;33m(\u001b[0m\u001b[1;36m5\u001b[0m\u001b[1;33m,\u001b[0m \u001b[1;36m6\u001b[0m\u001b[1;33m,\u001b[0m \u001b[1;36m3\u001b[0m\u001b[1;33m,\u001b[0m \u001b[1;36m0\u001b[0m\u001b[1;33m,\u001b[0m \u001b[1;36m9\u001b[0m\u001b[1;33m,\u001b[0m \u001b[1;36m3\u001b[0m\u001b[1;33m,\u001b[0m \u001b[1;36m2\u001b[0m\u001b[1;33m,\u001b[0m \u001b[1;36m3\u001b[0m\u001b[1;33m)\u001b[0m\u001b[1;33m\u001b[0m\u001b[0m\n\u001b[1;32m----> 2\u001b[1;33m \u001b[0mt\u001b[0m\u001b[1;33m.\u001b[0m\u001b[0msort\u001b[0m\u001b[1;33m(\u001b[0m\u001b[1;33m)\u001b[0m\u001b[1;33m\u001b[0m\u001b[0m\n\u001b[0m\u001b[0;32m      3\u001b[0m \u001b[0mprint\u001b[0m\u001b[1;33m(\u001b[0m\u001b[0mt\u001b[0m\u001b[1;33m)\u001b[0m\u001b[1;33m\u001b[0m\u001b[0m\n",
      "\u001b[1;31mAttributeError\u001b[0m: 'tuple' object has no attribute 'sort'"
     ]
    }
   ],
   "source": [
    "t = (5, 6, 3, 0, 9, 3, 2, 3)\n",
    "t.sort()\n",
    "print(t)"
   ]
  },
  {
   "cell_type": "code",
   "execution_count": null,
   "metadata": {
    "collapsed": true
   },
   "outputs": [],
   "source": [
    "#However, using the keyword \"sorted\" on a tuple returns a list of the elements that make up the tuple in a sorted order"
   ]
  },
  {
   "cell_type": "code",
   "execution_count": 41,
   "metadata": {},
   "outputs": [
    {
     "name": "stdout",
     "output_type": "stream",
     "text": [
      "[0, 2, 3, 3, 3, 5, 6, 9]\n",
      "True\n"
     ]
    }
   ],
   "source": [
    "print(sorted(t))\n",
    "print(l == sorted(t))"
   ]
  },
  {
   "cell_type": "code",
   "execution_count": 34,
   "metadata": {
    "scrolled": true
   },
   "outputs": [
    {
     "name": "stdout",
     "output_type": "stream",
     "text": [
      "Old l1 id: 2314095540552\n",
      "New l1 id: 2314095540552\n",
      "Old t1 id: 2314093472792\n",
      "New t1 id: 2314092782504\n"
     ]
    }
   ],
   "source": [
    "#When lists are concatenated, the id changes of the list remains the same. However, it changes when you do the same with a tuple.\n",
    "\n",
    "l1 = [1, 2, 3]\n",
    "l2 = [4, 5, 6]\n",
    "\n",
    "t1 = (1, 2, 3)\n",
    "t2 = (4, 5, 6)\n",
    "\n",
    "print (\"Old l1 id: \" + str(id(l1)))\n",
    "l1 += l2\n",
    "print (\"New l1 id: \" + str(id(l1)))\n",
    "print (\"Old t1 id: \" + str(id(t1)))\n",
    "t1 += t2\n",
    "print (\"New t1 id: \" + str(id(t1)))\n",
    "\n"
   ]
  },
  {
   "cell_type": "markdown",
   "metadata": {},
   "source": [
    "Both lists and tuples can be used in if-statements."
   ]
  },
  {
   "cell_type": "code",
   "execution_count": 35,
   "metadata": {},
   "outputs": [
    {
     "name": "stdout",
     "output_type": "stream",
     "text": [
      "The length of list l is not greater than 5\n",
      "The length of tuple t is not greater than 5\n",
      "The element '3.86' is in list l\n",
      "The element '3.86' is in tuple t\n"
     ]
    }
   ],
   "source": [
    "#An example:\n",
    "\n",
    "l = [1, \"><<>\", 3.86, \"abc\"]\n",
    "t = (1, \"><<>\", 3.86, \"abc\")\n",
    "\n",
    "if len(l) > 5:\n",
    "    print (\"The length of list l is greater than 5\")\n",
    "else:\n",
    "    print (\"The length of list l is not greater than 5\")\n",
    "    \n",
    "if len(t) > 5:\n",
    "    print (\"The length of tuple t is greater than 5\")\n",
    "else:\n",
    "    print (\"The length of tuple t is not greater than 5\")\n",
    "\n",
    "    \n",
    "#One common way to check if an element is contained in a list or tuple is by using the \"in\" keyword, like so:\n",
    "\n",
    "if 3.86 in l:\n",
    "    print (\"The element '3.86' is in list l\")\n",
    "    \n",
    "if 3.86 in t:\n",
    "    print (\"The element '3.86' is in tuple t\")\n"
   ]
  },
  {
   "cell_type": "markdown",
   "metadata": {},
   "source": [
    "Lists and tuples can alse be used in for loops. Iterating over the elements in a list uses the same syntax as iterating over the elements in a tuple."
   ]
  },
  {
   "cell_type": "code",
   "execution_count": 23,
   "metadata": {},
   "outputs": [
    {
     "name": "stdout",
     "output_type": "stream",
     "text": [
      "1\n",
      "><<>\n",
      "3.86\n",
      "abc\n",
      "1\n",
      "><<>\n",
      "3.86\n",
      "abc\n"
     ]
    }
   ],
   "source": [
    "for list_element in l:\n",
    "    print (list_element)\n",
    "\n",
    "for tuple_element in t:\n",
    "    print(tuple_element)"
   ]
  },
  {
   "cell_type": "markdown",
   "metadata": {},
   "source": [
    "Lastly, lists and tuples can be used in lambda functions."
   ]
  },
  {
   "cell_type": "code",
   "execution_count": 44,
   "metadata": {},
   "outputs": [
    {
     "name": "stdout",
     "output_type": "stream",
     "text": [
      "[1, '><<>', 3.86, 'abc', 'added element']\n"
     ]
    }
   ],
   "source": [
    "#Example using a list \n",
    "l = [1, \"><<>\", 3.86, \"abc\"]\n",
    "f = lambda x, y : x.append(y)\n",
    "\n",
    "f(l, \"added element\")\n",
    "print(l)"
   ]
  },
  {
   "cell_type": "code",
   "execution_count": null,
   "metadata": {
    "collapsed": true
   },
   "outputs": [],
   "source": [
    "#Obviously, trying this example using a tuple instead of a will not work, due to tuples not having an append operation"
   ]
  },
  {
   "cell_type": "code",
   "execution_count": 45,
   "metadata": {},
   "outputs": [
    {
     "ename": "AttributeError",
     "evalue": "'tuple' object has no attribute 'append'",
     "output_type": "error",
     "traceback": [
      "\u001b[1;31m---------------------------------------------------------------------------\u001b[0m",
      "\u001b[1;31mAttributeError\u001b[0m                            Traceback (most recent call last)",
      "\u001b[1;32m<ipython-input-45-6e93c915e779>\u001b[0m in \u001b[0;36m<module>\u001b[1;34m()\u001b[0m\n\u001b[0;32m      1\u001b[0m \u001b[0mt\u001b[0m \u001b[1;33m=\u001b[0m \u001b[1;33m(\u001b[0m\u001b[1;36m1\u001b[0m\u001b[1;33m,\u001b[0m \u001b[1;34m\"><<>\"\u001b[0m\u001b[1;33m,\u001b[0m \u001b[1;36m3.86\u001b[0m\u001b[1;33m,\u001b[0m \u001b[1;34m\"abc\"\u001b[0m\u001b[1;33m)\u001b[0m\u001b[1;33m\u001b[0m\u001b[0m\n\u001b[0;32m      2\u001b[0m \u001b[1;33m\u001b[0m\u001b[0m\n\u001b[1;32m----> 3\u001b[1;33m \u001b[0mf\u001b[0m\u001b[1;33m(\u001b[0m\u001b[0mt\u001b[0m\u001b[1;33m,\u001b[0m \u001b[1;34m\"added element\"\u001b[0m\u001b[1;33m)\u001b[0m\u001b[1;33m\u001b[0m\u001b[0m\n\u001b[0m\u001b[0;32m      4\u001b[0m \u001b[0mprint\u001b[0m\u001b[1;33m(\u001b[0m\u001b[0mt\u001b[0m\u001b[1;33m)\u001b[0m\u001b[1;33m\u001b[0m\u001b[0m\n",
      "\u001b[1;32m<ipython-input-44-343adee20c33>\u001b[0m in \u001b[0;36m<lambda>\u001b[1;34m(x, y)\u001b[0m\n\u001b[0;32m      1\u001b[0m \u001b[1;31m#Example using a list\u001b[0m\u001b[1;33m\u001b[0m\u001b[1;33m\u001b[0m\u001b[0m\n\u001b[0;32m      2\u001b[0m \u001b[0ml\u001b[0m \u001b[1;33m=\u001b[0m \u001b[1;33m[\u001b[0m\u001b[1;36m1\u001b[0m\u001b[1;33m,\u001b[0m \u001b[1;34m\"><<>\"\u001b[0m\u001b[1;33m,\u001b[0m \u001b[1;36m3.86\u001b[0m\u001b[1;33m,\u001b[0m \u001b[1;34m\"abc\"\u001b[0m\u001b[1;33m]\u001b[0m\u001b[1;33m\u001b[0m\u001b[0m\n\u001b[1;32m----> 3\u001b[1;33m \u001b[0mf\u001b[0m \u001b[1;33m=\u001b[0m \u001b[1;32mlambda\u001b[0m \u001b[0mx\u001b[0m\u001b[1;33m,\u001b[0m \u001b[0my\u001b[0m \u001b[1;33m:\u001b[0m \u001b[0mx\u001b[0m\u001b[1;33m.\u001b[0m\u001b[0mappend\u001b[0m\u001b[1;33m(\u001b[0m\u001b[0my\u001b[0m\u001b[1;33m)\u001b[0m\u001b[1;33m\u001b[0m\u001b[0m\n\u001b[0m\u001b[0;32m      4\u001b[0m \u001b[1;33m\u001b[0m\u001b[0m\n\u001b[0;32m      5\u001b[0m \u001b[0mf\u001b[0m\u001b[1;33m(\u001b[0m\u001b[0ml\u001b[0m\u001b[1;33m,\u001b[0m \u001b[1;34m\"added element\"\u001b[0m\u001b[1;33m)\u001b[0m\u001b[1;33m\u001b[0m\u001b[0m\n",
      "\u001b[1;31mAttributeError\u001b[0m: 'tuple' object has no attribute 'append'"
     ]
    }
   ],
   "source": [
    "t = (1, \"><<>\", 3.86, \"abc\")\n",
    "\n",
    "f(t, \"added element\")\n",
    "print(t)"
   ]
  },
  {
   "cell_type": "code",
   "execution_count": 52,
   "metadata": {},
   "outputs": [
    {
     "data": {
      "text/plain": [
       "'abc'"
      ]
     },
     "execution_count": 52,
     "metadata": {},
     "output_type": "execute_result"
    }
   ],
   "source": [
    "#However, tuples can still be used in lambdas, as shown below with this example:\n",
    "\n",
    "t = (1, \"><<>\", 3.86, \"abc\")\n",
    "\n",
    "f = lambda x, y, z : (x + (y,))[z]\n",
    "f(t, \"added_element\", 3)"
   ]
  },
  {
   "cell_type": "markdown",
   "metadata": {},
   "source": [
    "Sources:\n",
    "\n",
    "https://stackoverflow.com/questions/626759/whats-the-difference-between-lists-and-tuples\n",
    "https://developers.google.com/edu/python/lists\n",
    "https://www.tutorialspoint.com/python/python_tuples.htm"
   ]
  }
 ],
 "metadata": {
  "kernelspec": {
   "display_name": "Python 3",
   "language": "python",
   "name": "python3"
  },
  "language_info": {
   "codemirror_mode": {
    "name": "ipython",
    "version": 3
   },
   "file_extension": ".py",
   "mimetype": "text/x-python",
   "name": "python",
   "nbconvert_exporter": "python",
   "pygments_lexer": "ipython3",
   "version": "3.6.1"
  }
 },
 "nbformat": 4,
 "nbformat_minor": 2
}
